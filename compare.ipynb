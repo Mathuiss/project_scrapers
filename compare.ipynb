{
 "cells": [
  {
   "cell_type": "code",
   "execution_count": null,
   "metadata": {},
   "outputs": [],
   "source": [
    "import numpy as np\n",
    "import pandas as pd\n",
    "import preprocessor\n",
    "from predict import predict\n",
    "from keras.models import load_model"
   ]
  },
  {
   "cell_type": "code",
   "execution_count": null,
   "metadata": {},
   "outputs": [],
   "source": [
    "# Normalize data for model input\n",
    "def normalize(data):\n",
    "    columns_to_normalize = ufc_data.columns\n",
    "    columns_to_normalize = columns_to_normalize.drop([\"Name\", \"Stance\", \"DOB\", \"Name.1\", \"Stance.1\", \"DOB.1\", \"Win\"])\n",
    "    ufc_data[columns_to_normalize] = ufc_data[columns_to_normalize].apply(lambda x: (x - x.min()) / (x.max() - x.min()))\n",
    "    ufc_data[columns_to_normalize] = ufc_data[columns_to_normalize].fillna(0)\n",
    "    return ufc_data[columns_to_normalize].to_numpy()"
   ]
  },
  {
   "cell_type": "code",
   "execution_count": null,
   "metadata": {},
   "outputs": [],
   "source": [
    "def present(pair, opposite):\n",
    "    print(pair)\n",
    "    for i in range(len(opposite)):\n",
    "        if pair[0] in opposite.iloc[i].values and pair[1] in opposite.iloc[i].values:\n",
    "            print(\"######### PRESENT ##########\")\n",
    "            return True\n",
    "    \n",
    "    return False"
   ]
  },
  {
   "cell_type": "code",
   "execution_count": null,
   "metadata": {},
   "outputs": [],
   "source": [
    "def arr_compare(fights, odds):\n",
    "    drop_fights = []\n",
    "    drop_odds = []\n",
    "\n",
    "    print(\"Checking if fights in odds\")\n",
    "    for i in range(len(fights)):\n",
    "        if not present([fights.iloc[i][\"Name\"], fights.iloc[i][\"Name.1\"]], odds):\n",
    "            # print(f\"Dropping from fights: {i}\")\n",
    "            drop_fights.append(i)\n",
    "\n",
    "    print(\"Checking if odds in fights\")\n",
    "    for i in range(len(odds)):\n",
    "        if not present([odds.iloc[i][\"R_fighter\"], odds.iloc[i][\"B_fighter\"]], fights):\n",
    "            # print(f\"Dropping from odds: {i}\")\n",
    "            drop_odds.append(i)\n",
    "    \n",
    "    if len(drop_fights) != 0:\n",
    "        fights = fights.drop(drop_fights)\n",
    "    \n",
    "    if len(drop_odds) != 0:\n",
    "        odds = odds.drop(drop_odds)\n",
    "    \n",
    "    return (fights, odds)\n"
   ]
  },
  {
   "cell_type": "code",
   "execution_count": null,
   "metadata": {},
   "outputs": [],
   "source": [
    "# Load actual odds\n",
    "odds = pd.read_csv(\"UFC-data/fightodds.csv\")\n",
    "\n",
    "# Load fighter odds\n",
    "name = \"Conor McGregor\"\n",
    "fights_as_r = odds.loc[odds[\"R_fighter\"] == name].drop([\"Unnamed: 0\", \"Unnamed: 0.1\"], axis=1)\n",
    "fights_as_b = odds.loc[odds[\"B_fighter\"] == name].drop([\"Unnamed: 0\", \"Unnamed: 0.1\"], axis=1)\n",
    "fight_odds = pd.concat([fights_as_r, fights_as_r])"
   ]
  },
  {
   "cell_type": "code",
   "execution_count": null,
   "metadata": {},
   "outputs": [],
   "source": [
    "# Load all fight metrics for that fighter\n",
    "ufc_data = preprocessor.hoe_encode(preprocessor.load(name))\n",
    "x = normalize(ufc_data)"
   ]
  },
  {
   "cell_type": "code",
   "execution_count": null,
   "metadata": {
    "tags": [
     "outputPrepend",
     "outputPrepend",
     "outputPrepend",
     "outputPrepend",
     "outputPrepend"
    ]
   },
   "outputs": [],
   "source": [
    "ufc_data = ufc_data.sort_values(by=[\"Name\", \"Name.1\"])\n",
    "fight_odds = fight_odds.sort_values(by=[\"R_fighter\", \"B_fighter\"])\n",
    "\n",
    "ufc_data.reset_index(drop=True, inplace=True)\n",
    "fight_odds.reset_index(drop=True, inplace=True)\n",
    "\n",
    "print(ufc_data.index)\n",
    "print(fight_odds.index)\n",
    "\n",
    "ufc_data, fight_odds = arr_compare(ufc_data, fight_odds)\n",
    "\n",
    "print(len(ufc_data))\n",
    "print(len(fight_odds))"
   ]
  },
  {
   "cell_type": "code",
   "execution_count": null,
   "metadata": {},
   "outputs": [],
   "source": []
  }
 ],
 "metadata": {
  "language_info": {
   "codemirror_mode": {
    "name": "ipython",
    "version": 3
   },
   "file_extension": ".py",
   "mimetype": "text/x-python",
   "name": "python",
   "nbconvert_exporter": "python",
   "pygments_lexer": "ipython3",
   "version": "3.7.5-final"
  },
  "orig_nbformat": 2,
  "kernelspec": {
   "name": "python37564bit8153ed8c25bd45b7b4519484779c0773",
   "display_name": "Python 3.7.5 64-bit"
  }
 },
 "nbformat": 4,
 "nbformat_minor": 2
}