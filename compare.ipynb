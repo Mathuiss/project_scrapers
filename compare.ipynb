{
 "cells": [
  {
   "cell_type": "code",
   "execution_count": 6,
   "metadata": {},
   "outputs": [],
   "source": [
    "import pandas as pd\n",
    "import predict\n",
    "import preprocessor\n",
    "from subprocess import call\n",
    "\n",
    "df_fights = pd.read_csv(\"UFC-data/ufc-fights-model.csv\")\n",
    "df_fights = df_fights.drop([\"Unnamed: 0\"], axis=1)\n",
    "df_odds = pd.read_csv(\"UFC-data/fightodds.csv\")\n",
    "df_odds = df_odds.drop([\"Unnamed: 0\", \"Unnamed: 0.1\"], axis=1)\n",
    "\n",
    "fighters = pd.concat([df_fights[\"Name\"], df_fights[\"Name.1\"]])\n",
    "odds = pd.concat([df_odds[\"R_fighter\"], df_odds[\"B_fighter\"]])\n",
    "q_fighters = []\n",
    "\n",
    "for v in fighters.values:\n",
    "    if v in odds.values and v not in q_fighters:\n",
    "        q_fighters.append(v)\n",
    "\n",
    "\n",
    "metrics = {\"Fighters\": [], \"Accuracy\": []}\n",
    "\n",
    "for f in q_fighters:\n",
    "    preprocessor.preprocess(f, 0.99)\n",
    "    print(f\"Preprocessed: {f}\")\n",
    "    correct, fault, accuracy = predict.predict(f)\n",
    "    metrics[\"Fighters\"].append(f)\n",
    "    metrics[\"Accuracy\"].append(accuracy)\n",
    "\n",
    "for f in metrics[\"Fighters\"]:\n",
    "    if metrics[\"Accuracy\"] < 0.5:\n",
    "        print(f\"{f}:    {metrics[\"Accuracy\"]}       QUESTIONABLE\")\n",
    "    else metrics[\"Accuracy\"]:\n",
    "        print(f\"{f}:    {metrics[\"Accuracy\"]}       GOOD\")"
   ]
  },
  {
   "cell_type": "code",
   "execution_count": null,
   "metadata": {},
   "outputs": [],
   "source": []
  }
 ],
 "metadata": {
  "language_info": {
   "codemirror_mode": {
    "name": "ipython",
    "version": 3
   },
   "file_extension": ".py",
   "mimetype": "text/x-python",
   "name": "python",
   "nbconvert_exporter": "python",
   "pygments_lexer": "ipython3",
   "version": "3.7.5-final"
  },
  "orig_nbformat": 2,
  "kernelspec": {
   "name": "python37564bit8153ed8c25bd45b7b4519484779c0773",
   "display_name": "Python 3.7.5 64-bit"
  }
 },
 "nbformat": 4,
 "nbformat_minor": 2
}