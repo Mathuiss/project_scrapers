{
 "cells": [
  {
   "cell_type": "code",
   "execution_count": 1,
   "metadata": {},
   "outputs": [],
   "source": [
    "import pandas as pd\n",
    "import numpy as np"
   ]
  },
  {
   "cell_type": "code",
   "execution_count": 2,
   "metadata": {},
   "outputs": [],
   "source": [
    "betting = (pd.read_csv('UFC-data/fightodds.csv'))"
   ]
  },
  {
   "cell_type": "code",
   "execution_count": 3,
   "metadata": {},
   "outputs": [
    {
     "output_type": "execute_result",
     "data": {
      "text/plain": "pandas.core.frame.DataFrame"
     },
     "metadata": {},
     "execution_count": 3
    }
   ],
   "source": [
    "type (betting)  "
   ]
  },
  {
   "cell_type": "code",
   "execution_count": 4,
   "metadata": {},
   "outputs": [
    {
     "output_type": "stream",
     "name": "stdout",
     "text": "<class 'pandas.core.frame.DataFrame'>\nRangeIndex: 5528 entries, 0 to 5527\nData columns (total 14 columns):\n #   Column                 Non-Null Count  Dtype  \n---  ------                 --------------  -----  \n 0   Unnamed: 0             5528 non-null   int64  \n 1   R_fighter              4240 non-null   object \n 2   B_fighter              4240 non-null   object \n 3   R_odds                 4240 non-null   float64\n 4   B_odds                 4240 non-null   float64\n 5   date                   4240 non-null   object \n 6   location               4240 non-null   object \n 7   country                4240 non-null   object \n 8   Winner                 4240 non-null   object \n 9   title_bout             4240 non-null   object \n 10  weight_class           4240 non-null   object \n 11  gender                 4240 non-null   object \n 12  B_Implied_probability  5528 non-null   float64\n 13  R_Implied_probability  5528 non-null   float64\ndtypes: float64(4), int64(1), object(9)\nmemory usage: 604.8+ KB\n"
    }
   ],
   "source": [
    "betting.info()"
   ]
  },
  {
   "cell_type": "code",
   "execution_count": 5,
   "metadata": {},
   "outputs": [
    {
     "output_type": "execute_result",
     "data": {
      "text/plain": "      Unnamed: 0           R_fighter         B_fighter  R_odds  B_odds  \\\n0              0           Kevin Lee  Charles Oliveira  -145.0   135.0   \n1              1         Demian Maia     Gilbert Burns   160.0  -170.0   \n2              2      Renato Moicano    Damir Hadzovic  -345.0   315.0   \n3              3       Johnny Walker     Nikita Krylov  -137.0   127.0   \n4              4  Francisco Trinaldo     John Makdessi  -160.0   150.0   \n...          ...                 ...               ...     ...     ...   \n5523        5523                 NaN               NaN     NaN     NaN   \n5524        5524                 NaN               NaN     NaN     NaN   \n5525        5525                 NaN               NaN     NaN     NaN   \n5526        5526                 NaN               NaN     NaN     NaN   \n5527        5527                 NaN               NaN     NaN     NaN   \n\n           date                            location country Winner title_bout  \\\n0     3/14/2020  Brasilia, Distrito Federal, Brazil  Brazil   Blue      False   \n1     3/14/2020  Brasilia, Distrito Federal, Brazil  Brazil   Blue      False   \n2     3/14/2020  Brasilia, Distrito Federal, Brazil  Brazil    Red      False   \n3     3/14/2020  Brasilia, Distrito Federal, Brazil  Brazil   Blue      False   \n4     3/14/2020  Brasilia, Distrito Federal, Brazil  Brazil    Red      False   \n...         ...                                 ...     ...    ...        ...   \n5523        NaN                                 NaN     NaN    NaN        NaN   \n5524        NaN                                 NaN     NaN    NaN        NaN   \n5525        NaN                                 NaN     NaN    NaN        NaN   \n5526        NaN                                 NaN     NaN    NaN        NaN   \n5527        NaN                                 NaN     NaN    NaN        NaN   \n\n           weight_class gender  B_Implied_probability  R_Implied_probability  \n0           Lightweight   MALE              42.553191              59.183673  \n1          Welterweight   MALE              62.962963              38.461538  \n2           Lightweight   MALE              24.096386              77.528090  \n3     Light Heavyweight   MALE              44.052863              57.805907  \n4           Lightweight   MALE              40.000000              61.538462  \n...                 ...    ...                    ...                    ...  \n5523                NaN    NaN               0.000000               0.000000  \n5524                NaN    NaN               0.000000               0.000000  \n5525                NaN    NaN               0.000000               0.000000  \n5526                NaN    NaN               0.000000               0.000000  \n5527                NaN    NaN               0.000000               0.000000  \n\n[5528 rows x 14 columns]",
      "text/html": "<div>\n<style scoped>\n    .dataframe tbody tr th:only-of-type {\n        vertical-align: middle;\n    }\n\n    .dataframe tbody tr th {\n        vertical-align: top;\n    }\n\n    .dataframe thead th {\n        text-align: right;\n    }\n</style>\n<table border=\"1\" class=\"dataframe\">\n  <thead>\n    <tr style=\"text-align: right;\">\n      <th></th>\n      <th>Unnamed: 0</th>\n      <th>R_fighter</th>\n      <th>B_fighter</th>\n      <th>R_odds</th>\n      <th>B_odds</th>\n      <th>date</th>\n      <th>location</th>\n      <th>country</th>\n      <th>Winner</th>\n      <th>title_bout</th>\n      <th>weight_class</th>\n      <th>gender</th>\n      <th>B_Implied_probability</th>\n      <th>R_Implied_probability</th>\n    </tr>\n  </thead>\n  <tbody>\n    <tr>\n      <th>0</th>\n      <td>0</td>\n      <td>Kevin Lee</td>\n      <td>Charles Oliveira</td>\n      <td>-145.0</td>\n      <td>135.0</td>\n      <td>3/14/2020</td>\n      <td>Brasilia, Distrito Federal, Brazil</td>\n      <td>Brazil</td>\n      <td>Blue</td>\n      <td>False</td>\n      <td>Lightweight</td>\n      <td>MALE</td>\n      <td>42.553191</td>\n      <td>59.183673</td>\n    </tr>\n    <tr>\n      <th>1</th>\n      <td>1</td>\n      <td>Demian Maia</td>\n      <td>Gilbert Burns</td>\n      <td>160.0</td>\n      <td>-170.0</td>\n      <td>3/14/2020</td>\n      <td>Brasilia, Distrito Federal, Brazil</td>\n      <td>Brazil</td>\n      <td>Blue</td>\n      <td>False</td>\n      <td>Welterweight</td>\n      <td>MALE</td>\n      <td>62.962963</td>\n      <td>38.461538</td>\n    </tr>\n    <tr>\n      <th>2</th>\n      <td>2</td>\n      <td>Renato Moicano</td>\n      <td>Damir Hadzovic</td>\n      <td>-345.0</td>\n      <td>315.0</td>\n      <td>3/14/2020</td>\n      <td>Brasilia, Distrito Federal, Brazil</td>\n      <td>Brazil</td>\n      <td>Red</td>\n      <td>False</td>\n      <td>Lightweight</td>\n      <td>MALE</td>\n      <td>24.096386</td>\n      <td>77.528090</td>\n    </tr>\n    <tr>\n      <th>3</th>\n      <td>3</td>\n      <td>Johnny Walker</td>\n      <td>Nikita Krylov</td>\n      <td>-137.0</td>\n      <td>127.0</td>\n      <td>3/14/2020</td>\n      <td>Brasilia, Distrito Federal, Brazil</td>\n      <td>Brazil</td>\n      <td>Blue</td>\n      <td>False</td>\n      <td>Light Heavyweight</td>\n      <td>MALE</td>\n      <td>44.052863</td>\n      <td>57.805907</td>\n    </tr>\n    <tr>\n      <th>4</th>\n      <td>4</td>\n      <td>Francisco Trinaldo</td>\n      <td>John Makdessi</td>\n      <td>-160.0</td>\n      <td>150.0</td>\n      <td>3/14/2020</td>\n      <td>Brasilia, Distrito Federal, Brazil</td>\n      <td>Brazil</td>\n      <td>Red</td>\n      <td>False</td>\n      <td>Lightweight</td>\n      <td>MALE</td>\n      <td>40.000000</td>\n      <td>61.538462</td>\n    </tr>\n    <tr>\n      <th>...</th>\n      <td>...</td>\n      <td>...</td>\n      <td>...</td>\n      <td>...</td>\n      <td>...</td>\n      <td>...</td>\n      <td>...</td>\n      <td>...</td>\n      <td>...</td>\n      <td>...</td>\n      <td>...</td>\n      <td>...</td>\n      <td>...</td>\n      <td>...</td>\n    </tr>\n    <tr>\n      <th>5523</th>\n      <td>5523</td>\n      <td>NaN</td>\n      <td>NaN</td>\n      <td>NaN</td>\n      <td>NaN</td>\n      <td>NaN</td>\n      <td>NaN</td>\n      <td>NaN</td>\n      <td>NaN</td>\n      <td>NaN</td>\n      <td>NaN</td>\n      <td>NaN</td>\n      <td>0.000000</td>\n      <td>0.000000</td>\n    </tr>\n    <tr>\n      <th>5524</th>\n      <td>5524</td>\n      <td>NaN</td>\n      <td>NaN</td>\n      <td>NaN</td>\n      <td>NaN</td>\n      <td>NaN</td>\n      <td>NaN</td>\n      <td>NaN</td>\n      <td>NaN</td>\n      <td>NaN</td>\n      <td>NaN</td>\n      <td>NaN</td>\n      <td>0.000000</td>\n      <td>0.000000</td>\n    </tr>\n    <tr>\n      <th>5525</th>\n      <td>5525</td>\n      <td>NaN</td>\n      <td>NaN</td>\n      <td>NaN</td>\n      <td>NaN</td>\n      <td>NaN</td>\n      <td>NaN</td>\n      <td>NaN</td>\n      <td>NaN</td>\n      <td>NaN</td>\n      <td>NaN</td>\n      <td>NaN</td>\n      <td>0.000000</td>\n      <td>0.000000</td>\n    </tr>\n    <tr>\n      <th>5526</th>\n      <td>5526</td>\n      <td>NaN</td>\n      <td>NaN</td>\n      <td>NaN</td>\n      <td>NaN</td>\n      <td>NaN</td>\n      <td>NaN</td>\n      <td>NaN</td>\n      <td>NaN</td>\n      <td>NaN</td>\n      <td>NaN</td>\n      <td>NaN</td>\n      <td>0.000000</td>\n      <td>0.000000</td>\n    </tr>\n    <tr>\n      <th>5527</th>\n      <td>5527</td>\n      <td>NaN</td>\n      <td>NaN</td>\n      <td>NaN</td>\n      <td>NaN</td>\n      <td>NaN</td>\n      <td>NaN</td>\n      <td>NaN</td>\n      <td>NaN</td>\n      <td>NaN</td>\n      <td>NaN</td>\n      <td>NaN</td>\n      <td>0.000000</td>\n      <td>0.000000</td>\n    </tr>\n  </tbody>\n</table>\n<p>5528 rows × 14 columns</p>\n</div>"
     },
     "metadata": {},
     "execution_count": 5
    }
   ],
   "source": [
    "betting"
   ]
  },
  {
   "cell_type": "code",
   "execution_count": 6,
   "metadata": {},
   "outputs": [
    {
     "output_type": "execute_result",
     "data": {
      "text/plain": "array([-145.,  160., -345., ...,   nan,   nan,   nan])"
     },
     "metadata": {},
     "execution_count": 6
    }
   ],
   "source": [
    "R_odds = betting['R_odds'].values\n",
    "R_odds"
   ]
  },
  {
   "cell_type": "code",
   "execution_count": 7,
   "metadata": {
    "tags": [
     "outputPrepend",
     "outputPrepend"
    ]
   },
   "outputs": [
    {
     "output_type": "stream",
     "name": "stdout",
     "text": "59.183673469387756\n"
    }
   ],
   "source": [
    "#This is for negative odds\n",
    "i = R_odds[0]\n",
    "\n",
    "impliedProbability = (-(i) / ((-(i)) + 100)) * 100\n",
    "print(impliedProbability)"
   ]
  },
  {
   "cell_type": "code",
   "execution_count": 8,
   "metadata": {},
   "outputs": [
    {
     "output_type": "stream",
     "name": "stdout",
     "text": "38.46153846153847\n"
    }
   ],
   "source": [
    "#For positive odds\n",
    "i = R_odds[1]\n",
    "impliedProbability = 100 /(i + 100) * 100\n",
    "print(impliedProbability)"
   ]
  },
  {
   "cell_type": "code",
   "execution_count": 9,
   "metadata": {
    "tags": [
     "outputPrepend",
     "outputPrepend",
     "outputPrepend",
     "outputPrepend",
     "outputPrepend",
     "outputPrepend",
     "outputPrepend",
     "outputPrepend",
     "outputPrepend"
    ]
   },
   "outputs": [
    {
     "output_type": "stream",
     "name": "stdout",
     "text": "387096\n28.57142857142857\n84.0\n56.52173913043478\n70.1492537313433\n69.6969696969697\n54.75113122171946\n58.333333333333336\n53.48837209302325\n36.36363636363637\n39.21568627450981\n75.90361445783132\n57.446808510638306\n76.19047619047619\n85.07462686567165\n68.25396825396825\n81.48148148148148\n65.51724137931035\n64.91228070175438\n59.183673469387756\n48.78048780487805\n59.01639344262295\n40.816326530612244\n82.6086956521739\n58.333333333333336\n71.83098591549296\n24.096385542168676\n20.833333333333336\n43.47826086956522\n64.91228070175438\n27.027027027027028\n31.25\n72.97297297297297\n56.52173913043478\n72.6027397260274\n27.77777777777778\n51.21951219512195\n55.55555555555556\n50.0\n36.36363636363637\n34.48275862068966\n70.1492537313433\n46.2962962962963\n69.23076923076923\n94.28571428571428\n71.01449275362319\n80.0\n70.1492537313433\n32.25806451612903\n58.333333333333336\n69.23076923076923\n29.411764705882355\n26.666666666666668\n58.333333333333336\n33.33333333333333\n28.57142857142857\n69.6969696969697\n62.96296296296296\n58.333333333333336\n74.35897435897436\n73.68421052631578\n75.0\n62.546816479400746\n71.01449275362319\n34.48275862068966\n73.68421052631578\n67.74193548387096\n55.55555555555556\n66.66666666666666\n67.21311475409836\n68.75\n68.25396825396825\n50.0\n81.81818181818183\n77.52808988764045\n76.19047619047619\n37.03703703703704\n25.97402597402597\n81.48148148148148\n68.75\n33.89830508474576\n72.22222222222221\n90.9090909090909\n67.74193548387096\n82.6086956521739\n36.101083032490976\n78.02197802197803\n53.48837209302325\n67.74193548387096\n56.52173913043478\n71.42857142857143\n67.74193548387096\n59.183673469387756\n42.5531914893617\n64.91228070175438\n75.60975609756098\n71.83098591549296\n73.68421052631578\n64.91228070175438\n42.5531914893617\n60.78431372549019\n62.96296296296296\n36.101083032490976\n75.0\n39.21568627450981\n69.6969696969697\n60.9375\n52.38095238095239\n71.83098591549296\n69.6969696969697\n30.76923076923077\n60.78431372549019\n40.0\n24.390243902439025\n53.48837209302325\n89.36170212765957\n71.01449275362319\n66.66666666666666\n77.27272727272727\n31.746031746031743\n60.78431372549019\n46.51162790697674\n33.33333333333333\n80.0\n53.48837209302325\n37.878787878787875\n33.89830508474576\n64.91228070175438\n77.01149425287356\n64.02877697841727\n86.8421052631579\n40.0\n75.90361445783132\n40.816326530612244\n39.21568627450981\n60.78431372549019\n83.33333333333334\n80.0\n73.33333333333333\n53.48837209302325\n68.75\n58.333333333333336\n88.23529411764706\n66.66666666666666\n67.74193548387096\n65.51724137931035\n47.61904761904761\n40.0\n75.60975609756098\n55.55555555555556\n76.47058823529412\n39.21568627450981\n55.55555555555556\n45.45454545454545\n32.25806451612903\n68.75\n29.850746268656714\n39.21568627450981\n43.47826086956522\n79.16666666666666\n76.74418604651163\n34.48275862068966\n80.58252427184466\n65.51724137931035\n47.61904761904761\n78.02197802197803\n43.47826086956522\n79.7979797979798\n65.51724137931035\n73.68421052631578\n75.0\n35.08771929824561\n58.8477366255144\n87.5776397515528\n53.48837209302325\n74.35897435897436\n60.47430830039525\n65.51724137931035\n41.66666666666667\n37.03703703703704\n44.44444444444444\n75.90361445783132\n29.411764705882355\n82.6086956521739\n64.02877697841727\n35.08771929824561\n54.54545454545454\n35.08771929824561\n53.48837209302325\n72.22222222222221\n60.78431372549019\n68.75\n78.02197802197803\n69.6969696969697\n68.25396825396825\n62.264150943396224\n60.0\n78.72340425531915\n47.61904761904761\n67.74193548387096\n60.78431372549019\n76.74418604651163\n41.66666666666667\n52.38095238095239\n64.91228070175438\n65.51724137931035\n40.0\n69.6969696969697\n51.21951219512195\n55.55555555555556\n40.0\n56.52173913043478\n56.52173913043478\n69.6969696969697\n60.78431372549019\n64.02877697841727\n29.411764705882355\n35.08771929824561\n58.333333333333336\n77.52808988764045\n63.503649635036496\n75.60975609756098\n36.101083032490976\n73.68421052631578\n64.91228070175438\n82.6086956521739\n80.0\n61.832061068702295\n62.96296296296296\n56.52173913043478\n72.22222222222221\n84.375\n60.78431372549019\n56.52173913043478\n65.51724137931035\n31.746031746031743\n54.12844036697248\n25.64102564102564\n51.21951219512195\n68.75\n75.30864197530865\n43.47826086956522\n33.33333333333333\n61.53846153846154\n37.03703703703704\n81.13207547169812\n78.49462365591397\n47.61904761904761\n31.746031746031743\n40.0\n44.843049327354265\n67.74193548387096\n60.0\n75.90361445783132\n83.60655737704919\n64.91228070175438\n28.985507246376812\n41.66666666666667\n52.38095238095239\n29.411764705882355\n56.52173913043478\n83.60655737704919\n86.8421052631579\n68.25396825396825\n51.21951219512195\n82.75862068965517\n74.35897435897436\n75.0\n33.33333333333333\n33.33333333333333\n57.446808510638306\n42.5531914893617\n31.746031746031743\n72.22222222222221\n79.16666666666666\n60.0\n37.03703703703704\n37.03703703703704\n73.68421052631578\n64.91228070175438\n36.101083032490976\n74.35897435897436\n71.42857142857143\n76.47058823529412\n62.96296296296296\n59.183673469387756\n89.69072164948454\n76.47058823529412\n55.55555555555556\n77.52808988764045\n42.5531914893617\n82.14285714285714\n71.83098591549296\n58.333333333333336\n59.183673469387756\n33.33333333333333\n56.52173913043478\n59.183673469387756\n28.169014084507044\n24.096385542168676\n80.3921568627451\n64.91228070175438\n74.02597402597402\n71.42857142857143\n74.35897435897436\n75.60975609756098\n74.35897435897436\n66.21621621621621\n23.809523809523807\n49.75124378109453\n43.47826086956522\n83.73983739837398\n71.83098591549296\n70.58823529411765\n62.264150943396224\n43.47826086956522\n46.51162790697674\n65.51724137931035\n41.66666666666667\n72.97297297297297\n68.25396825396825\n68.75\n83.73983739837398\n46.51162790697674\n77.01149425287356\n78.49462365591397\n60.317460317460316\n25.64102564102564\n65.63573883161511\n79.16666666666666\n41.32231404958678\n78.02197802197803\n51.21951219512195\n47.61904761904761\n84.84848484848484\n30.76923076923077\n62.96296296296296\n59.183673469387756\n41.66666666666667\n39.21568627450981\n81.13207547169812\n66.66666666666666\n42.5531914893617\n50.0\n78.26086956521739\n75.60975609756098\n58.333333333333336\n28.57142857142857\n69.6969696969697\n55.55555555555556\n83.33333333333334\n84.12698412698413\n75.30864197530865\n55.55555555555556\n58.333333333333336\n65.75342465753424\n18.01801801801802\n39.21568627450981\n43.47826086956522\n28.169014084507044\n69.23076923076923\n25.0\n62.264150943396224\n76.47058823529412\n37.03703703703704\n77.52808988764045\n72.6027397260274\n33.89830508474576\n82.6086956521739\n67.74193548387096\n28.985507246376812\n52.38095238095239\n84.84848484848484\n71.83098591549296\n63.76811594202898\n60.317460317460316\n40.816326530612244\n58.67768595041323\n69.6969696969697\n24.096385542168676\n65.75342465753424\n76.19047619047619\n68.25396825396825\n77.77777777777779\n32.78688524590164\n49.01960784313725\n69.23076923076923\n51.21951219512195\n61.53846153846154\n80.19801980198021\n60.47430830039525\n35.714285714285715\n63.503649635036496\n52.38095238095239\n42.016806722689076\n79.38144329896907\n80.3921568627451\n25.0\n60.78431372549019\n80.3921568627451\n57.446808510638306\n78.94736842105263\n55.55555555555556\n28.985507246376812\n69.23076923076923\n37.735849056603776\n72.22222222222221\n79.59183673469387\n51.21951219512195\n28.735632183908045\n75.0\n54.54545454545454\n32.78688524590164\n46.51162790697674\n77.01149425287356\n78.02197802197803\n86.8421052631579\n45.45454545454545\n40.816326530612244\n67.74193548387096\n29.850746268656714\n67.21311475409836\n48.78048780487805\n45.87155963302752\n34.48275862068966\n80.3921568627451\n75.90361445783132\n31.746031746031743\n74.68354430379746\n79.16666666666666\n66.10169491525424\n53.48837209302325\n54.54545454545454\n55.55555555555556\n78.02197802197803\n72.22222222222221\n31.746031746031743\n83.33333333333334\n74.35897435897436\n73.68421052631578\n28.169014084507044\n57.446808510638306\n80.0\n60.78431372549019\n84.61538461538461\n62.264150943396224\n66.66666666666666\n68.75\n60.78431372549019\n63.369963369963365\n79.59183673469387\n63.503649635036496\n72.22222222222221\n50.0\n83.33333333333334\n22.22222222222222\n78.02197802197803\n80.76923076923077\n71.83098591549296\n77.27272727272727\n36.101083032490976\n44.44444444444444\n68.75\n60.317460317460316\n57.446808510638306\n63.503649635036496\n35.08771929824561\n74.35897435897436\n37.03703703703704\n80.58252427184466\n67.74193548387096\n62.264150943396224\n41.66666666666667\n69.6969696969697\n56.52173913043478\n23.809523809523807\n85.71428571428571\n67.74193548387096\n28.735632183908045\n30.303030303030305\n70.58823529411765\n64.91228070175438\n71.01449275362319\n80.58252427184466\n60.78431372549019\n73.68421052631578\n82.6086956521739\n37.03703703703704\n50.98039215686274\n62.96296296296296\n49.01960784313725\n79.7979797979798\n70.58823529411765\n74.68354430379746\n45.04504504504504\n33.33333333333333\n80.76923076923077\n81.48148148148148\n54.54545454545454\n79.38144329896907\n78.94736842105263\n76.19047619047619\n46.51162790697674\n57.446808510638306\n71.83098591549296\n41.66666666666667\n84.375\n62.121212121212125\n58.67768595041323\n67.74193548387096\n43.47826086956522\n64.91228070175438\n66.66666666666666\n51.21951219512195\n16.666666666666664\n49.75124378109453\n73.68421052631578\n68.25396825396825\n75.90361445783132\n32.78688524590164\n59.183673469387756\n38.46153846153847\n66.66666666666666\n19.41747572815534\n29.850746268656714\n29.850746268656714\n71.83098591549296\n62.96296296296296\n76.19047619047619\n52.38095238095239\n40.816326530612244\n62.264150943396224\n84.84848484848484\n40.816326530612244\n68.75\n60.0\n58.8477366255144\n23.52941176470588\n37.453183520599254\n19.230769230769234\n27.397260273972602\n56.52173913043478\n77.01149425287356\n46.51162790697674\n36.36363636363637\n51.21951219512195\n33.33333333333333\n56.52173913043478\n37.735849056603776\n63.63636363636363\n25.0\n80.76923076923077\n28.57142857142857\n37.03703703703704\n82.14285714285714\n69.6969696969697\n75.30864197530865\n54.54545454545454\n45.87155963302752\n69.6969696969697\n58.333333333333336\n54.54545454545454\n55.55555555555556\n81.13207547169812\n79.16666666666666\n24.096385542168676\n81.98198198198197\n83.33333333333334\n77.77777777777779\n50.495049504950494\n41.66666666666667\n44.052863436123346\n66.66666666666666\n47.61904761904761\n64.91228070175438\n46.51162790697674\n62.96296296296296\n61.53846153846154\n71.83098591549296\n63.369963369963365\n31.25\n55.55555555555556\n75.0\n34.48275862068966\n79.59183673469387\n82.14285714285714\n35.714285714285715\n76.47058823529412\n36.36363636363637\n38.46153846153847\n33.89830508474576\n80.0\n71.83098591549296\n25.97402597402597\n30.76923076923077\n64.91228070175438\n72.22222222222221\n60.0\n44.44444444444444\n81.81818181818183\n36.36363636363637\n62.264150943396224\n44.44444444444444\n38.46153846153847\n34.48275862068966\n75.60975609756098\n59.183673469387756\n56.52173913043478\n48.78048780487805\n69.23076923076923\n35.08771929824561\n41.66666666666667\n70.1492537313433\n37.03703703703704\n74.35897435897436\n78.26086956521739\n27.77777777777778\n37.03703703703704\n64.91228070175438\n77.77777777777779\n50.0\n65.51724137931035\n75.0\n30.76923076923077\n60.78431372549019\n67.74193548387096\n45.87155963302752\n74.02597402597402\n73.68421052631578\n76.19047619047619\n73.33333333333333\n78.49462365591397\n53.48837209302325\n68.75\n46.51162790697674\n70.58823529411765\n32.78688524590164\n71.42857142857143\n71.42857142857143\n63.503649635036496\n57.446808510638306\n28.169014084507044\n55.55555555555556\n25.64102564102564\n52.38095238095239\n68.75\n50.0\n42.19409282700422\n59.51417004048582\n44.44444444444444\n45.248868778280546\n57.80590717299579\n75.0\n28.57142857142857\n29.411764705882355\n69.23076923076923\n53.48837209302325\n37.03703703703704\n81.48148148148148\n54.54545454545454\n41.66666666666667\n70.58823529411765\n75.0\n32.25806451612903\n60.0\n41.66666666666667\n71.42857142857143\n43.47826086956522\n59.183673469387756\n69.6969696969697\n70.58823529411765\n27.397260273972602\n64.02877697841727\n37.735849056603776\n52.38095238095239\n29.850746268656714\n40.0\n54.54545454545454\n65.51724137931035\n41.66666666666667\n31.746031746031743\n33.89830508474576\n71.42857142857143\n82.90598290598291\n69.23076923076923\n45.45454545454545\n46.51162790697674\n61.53846153846154\n21.978021978021978\n66.66666666666666\n69.6969696969697\n65.51724137931035\n48.78048780487805\n72.6027397260274\n51.92307692307693\n26.31578947368421\n68.75\n69.6969696969697\n68.75\n51.21951219512195\n53.48837209302325\n62.264150943396224\n62.96296296296296\n43.47826086956522\n38.02281368821293\n44.44444444444444\n71.42857142857143\n63.63636363636363\n44.44444444444444\n66.66666666666666\n52.38095238095239\n69.23076923076923\n67.74193548387096\n62.96296296296296\n82.6086956521739\n64.02877697841727\n40.816326530612244\n42.5531914893617\n40.816326530612244\n64.91228070175438\n67.74193548387096\n33.33333333333333\n67.74193548387096\n38.46153846153847\n44.44444444444444\n37.453183520599254\n51.21951219512195\n71.83098591549296\n63.503649635036496\n73.68421052631578\n41.66666666666667\n68.75\n65.51724137931035\n70.1492537313433\n60.78431372549019\n55.55555555555556\n34.48275862068966\n48.78048780487805\n64.91228070175438\n60.78431372549019\n37.3134328358209\n41.66666666666667\n70.58823529411765\n28.735632183908045\n85.71428571428571\n67.74193548387096\n58.333333333333336\n65.51724137931035\n76.19047619047619\n53.48837209302325\n69.6969696969697\n66.66666666666666\n76.47058823529412\n82.14285714285714\n46.2962962962963\n46.2962962962963\n35.97122302158273\n24.096385542168676\n60.0\n14.285714285714285\n78.72340425531915\n25.64102564102564\n66.66666666666666\n75.0\n88.26291079812206\n35.08771929824561\n35.587188612099645\n76.19047619047619\n51.21951219512195\n35.714285714285715\n61.53846153846154\n35.714285714285715\n33.33333333333333\n66.10169491525424\n59.183673469387756\n36.101083032490976\n64.28571428571429\n65.51724137931035\n61.240310077519375\n75.30864197530865\n40.0\n43.47826086956522\n71.42857142857143\n37.03703703703704\n44.44444444444444\n68.75\n41.66666666666667\n26.31578947368421\n65.51724137931035\n45.45454545454545\n66.66666666666666\n68.75\n39.21568627450981\n61.53846153846154\n37.735849056603776\n54.337899543378995\n38.02281368821293\n68.55345911949685\n37.03703703703704\n45.87155963302752\n64.28571428571429\n50.495049504950494\n32.78688524590164\n76.47058823529412\n31.746031746031743\n47.61904761904761\n52.15311004784689\n66.10169491525424\n73.33333333333333\n18.69158878504673\n68.25396825396825\n50.0\n80.0\n78.72340425531915\n75.60975609756098\n66.66666666666666\n60.0\n65.51724137931035\n71.42857142857143\n65.51724137931035\n50.73891625615764\n48.309178743961354\n85.71428571428571\n81.48148148148148\n23.52941176470588\n34.48275862068966\n71.83098591549296\n63.63636363636363\n87.09677419354838\n88.63636363636364\n79.16666666666666\n57.446808510638306\n38.46153846153847\n22.22222222222222\n40.816326530612244\n41.66666666666667\n31.25\n71.01449275362319\n78.26086956521739\n77.77777777777779\n69.6969696969697\n68.75\n65.51724137931035\n34.48275862068966\n43.47826086956522\n27.027027027027028\n86.66666666666667\n60.78431372549019\n36.63003663003663\n86.66666666666667\n60.0\n67.74193548387096\n25.31645569620253\n76.19047619047619\n70.1492537313433\n64.91228070175438\n68.75\n61.53846153846154\n69.6969696969697\n31.746031746031743\n71.42857142857143\n77.52808988764045\n54.54545454545454\n80.76923076923077\n40.816326530612244\n60.78431372549019\n67.74193548387096\n72.22222222222221\n80.76923076923077\n41.66666666666667\nnan\nnan\nnan\nnan\nnan\nnan\nnan\nnan\nnan\nnan\nnan\nnan\nnan\nnan\nnan\nnan\nnan\nnan\nnan\nnan\nnan\nnan\nnan\nnan\nnan\nnan\nnan\nnan\nnan\nnan\nnan\nnan\nnan\nnan\nnan\nnan\nnan\nnan\nnan\nnan\nnan\nnan\nnan\nnan\nnan\nnan\nnan\nnan\nnan\nnan\nnan\nnan\nnan\nnan\nnan\nnan\nnan\nnan\nnan\nnan\nnan\nnan\nnan\nnan\nnan\nnan\nnan\nnan\nnan\nnan\nnan\nnan\nnan\nnan\nnan\nnan\nnan\nnan\nnan\nnan\nnan\nnan\nnan\nnan\nnan\nnan\nnan\nnan\nnan\nnan\nnan\nnan\nnan\nnan\nnan\nnan\nnan\nnan\nnan\nnan\nnan\nnan\nnan\nnan\nnan\nnan\nnan\nnan\nnan\nnan\nnan\nnan\nnan\nnan\nnan\nnan\nnan\nnan\nnan\nnan\nnan\nnan\nnan\nnan\nnan\nnan\nnan\nnan\nnan\nnan\nnan\nnan\nnan\nnan\nnan\nnan\nnan\nnan\nnan\nnan\nnan\nnan\nnan\nnan\nnan\nnan\nnan\nnan\nnan\nnan\nnan\nnan\nnan\nnan\nnan\nnan\nnan\nnan\nnan\nnan\nnan\nnan\nnan\nnan\nnan\nnan\nnan\nnan\nnan\nnan\nnan\nnan\nnan\nnan\nnan\nnan\nnan\nnan\nnan\nnan\nnan\nnan\nnan\nnan\nnan\nnan\nnan\nnan\nnan\nnan\nnan\nnan\nnan\nnan\nnan\nnan\nnan\nnan\nnan\nnan\nnan\nnan\nnan\nnan\nnan\nnan\nnan\nnan\nnan\nnan\nnan\nnan\nnan\nnan\nnan\nnan\nnan\nnan\nnan\nnan\nnan\nnan\nnan\nnan\nnan\nnan\nnan\nnan\nnan\nnan\nnan\nnan\nnan\nnan\nnan\nnan\nnan\nnan\nnan\nnan\nnan\nnan\nnan\nnan\nnan\nnan\nnan\nnan\nnan\nnan\nnan\nnan\nnan\nnan\nnan\nnan\nnan\nnan\nnan\nnan\nnan\nnan\nnan\nnan\nnan\nnan\nnan\nnan\nnan\nnan\nnan\nnan\nnan\nnan\nnan\nnan\nnan\nnan\nnan\nnan\nnan\nnan\nnan\nnan\nnan\nnan\nnan\nnan\nnan\nnan\nnan\nnan\nnan\nnan\nnan\nnan\nnan\nnan\nnan\nnan\nnan\nnan\nnan\nnan\nnan\nnan\nnan\nnan\nnan\nnan\nnan\nnan\nnan\nnan\nnan\nnan\nnan\nnan\nnan\nnan\nnan\nnan\nnan\nnan\nnan\nnan\nnan\nnan\nnan\nnan\nnan\nnan\nnan\nnan\nnan\nnan\nnan\nnan\nnan\nnan\nnan\nnan\nnan\nnan\nnan\nnan\nnan\nnan\nnan\nnan\nnan\nnan\nnan\nnan\nnan\nnan\nnan\nnan\nnan\nnan\nnan\nnan\nnan\nnan\nnan\nnan\nnan\nnan\nnan\nnan\nnan\nnan\nnan\nnan\nnan\nnan\nnan\nnan\nnan\nnan\nnan\nnan\nnan\nnan\nnan\nnan\nnan\nnan\nnan\nnan\nnan\nnan\nnan\nnan\nnan\nnan\nnan\nnan\nnan\nnan\nnan\nnan\nnan\nnan\nnan\nnan\nnan\nnan\nnan\nnan\nnan\nnan\nnan\nnan\nnan\nnan\nnan\nnan\nnan\nnan\nnan\nnan\nnan\nnan\nnan\nnan\nnan\nnan\nnan\nnan\nnan\nnan\nnan\nnan\nnan\nnan\nnan\nnan\nnan\nnan\nnan\nnan\nnan\nnan\nnan\nnan\nnan\nnan\nnan\nnan\nnan\nnan\nnan\nnan\nnan\nnan\nnan\nnan\nnan\nnan\nnan\nnan\nnan\nnan\nnan\nnan\nnan\nnan\nnan\nnan\nnan\nnan\nnan\nnan\nnan\nnan\nnan\nnan\nnan\nnan\nnan\nnan\nnan\nnan\nnan\nnan\nnan\nnan\nnan\nnan\nnan\nnan\nnan\nnan\nnan\nnan\nnan\nnan\nnan\nnan\nnan\nnan\nnan\nnan\nnan\nnan\nnan\nnan\nnan\nnan\nnan\nnan\nnan\nnan\nnan\nnan\nnan\nnan\nnan\nnan\nnan\nnan\nnan\nnan\nnan\nnan\nnan\nnan\nnan\nnan\nnan\nnan\nnan\nnan\nnan\nnan\nnan\nnan\nnan\nnan\nnan\nnan\nnan\nnan\nnan\nnan\nnan\nnan\nnan\nnan\nnan\nnan\nnan\nnan\nnan\nnan\nnan\nnan\nnan\nnan\nnan\nnan\nnan\nnan\nnan\nnan\nnan\nnan\nnan\nnan\nnan\nnan\nnan\nnan\nnan\nnan\nnan\nnan\nnan\nnan\nnan\nnan\nnan\nnan\nnan\nnan\nnan\nnan\nnan\nnan\nnan\nnan\nnan\nnan\nnan\nnan\nnan\nnan\nnan\nnan\nnan\nnan\nnan\nnan\nnan\nnan\nnan\nnan\nnan\nnan\nnan\nnan\nnan\nnan\nnan\nnan\nnan\nnan\nnan\nnan\nnan\nnan\nnan\nnan\nnan\nnan\nnan\nnan\nnan\nnan\nnan\nnan\nnan\nnan\nnan\nnan\nnan\nnan\nnan\nnan\nnan\nnan\nnan\nnan\nnan\nnan\nnan\nnan\nnan\nnan\nnan\nnan\nnan\nnan\nnan\nnan\nnan\nnan\nnan\nnan\nnan\nnan\nnan\nnan\nnan\nnan\nnan\nnan\nnan\nnan\nnan\nnan\nnan\nnan\nnan\nnan\nnan\nnan\nnan\nnan\nnan\nnan\nnan\nnan\nnan\nnan\nnan\nnan\nnan\nnan\nnan\nnan\nnan\nnan\nnan\nnan\nnan\nnan\nnan\nnan\nnan\nnan\nnan\nnan\nnan\nnan\nnan\nnan\nnan\nnan\nnan\nnan\nnan\nnan\nnan\nnan\nnan\nnan\nnan\nnan\nnan\nnan\nnan\nnan\nnan\nnan\nnan\nnan\nnan\nnan\nnan\nnan\nnan\nnan\nnan\nnan\nnan\nnan\nnan\nnan\nnan\nnan\nnan\nnan\nnan\nnan\nnan\nnan\nnan\nnan\nnan\nnan\nnan\nnan\nnan\nnan\nnan\nnan\nnan\nnan\nnan\nnan\nnan\nnan\nnan\nnan\nnan\nnan\nnan\nnan\nnan\nnan\nnan\nnan\nnan\nnan\nnan\nnan\nnan\nnan\nnan\nnan\nnan\nnan\nnan\nnan\nnan\nnan\nnan\nnan\nnan\nnan\nnan\nnan\nnan\nnan\nnan\nnan\nnan\nnan\nnan\nnan\nnan\nnan\nnan\nnan\nnan\nnan\nnan\nnan\nnan\nnan\nnan\nnan\nnan\nnan\nnan\nnan\nnan\nnan\nnan\nnan\nnan\nnan\nnan\nnan\nnan\nnan\nnan\nnan\nnan\nnan\nnan\nnan\nnan\nnan\nnan\nnan\nnan\nnan\nnan\nnan\nnan\nnan\nnan\nnan\nnan\nnan\nnan\nnan\nnan\nnan\nnan\nnan\nnan\nnan\nnan\nnan\nnan\nnan\nnan\nnan\nnan\nnan\nnan\nnan\nnan\nnan\nnan\nnan\nnan\nnan\nnan\nnan\nnan\nnan\nnan\nnan\nnan\nnan\nnan\nnan\nnan\nnan\nnan\nnan\nnan\nnan\nnan\nnan\nnan\nnan\nnan\nnan\nnan\nnan\nnan\nnan\nnan\nnan\nnan\nnan\nnan\nnan\nnan\nnan\nnan\nnan\nnan\nnan\nnan\nnan\nnan\nnan\nnan\nnan\nnan\nnan\nnan\nnan\nnan\nnan\nnan\nnan\nnan\nnan\nnan\nnan\nnan\nnan\nnan\nnan\nnan\nnan\nnan\nnan\nnan\nnan\nnan\nnan\nnan\nnan\nnan\nnan\nnan\nnan\nnan\nnan\nnan\nnan\nnan\nnan\nnan\nnan\nnan\nnan\nnan\nnan\nnan\nnan\nnan\nnan\nnan\nnan\nnan\nnan\nnan\nnan\nnan\nnan\nnan\nnan\nnan\nnan\nnan\nnan\nnan\nnan\nnan\nnan\nnan\nnan\nnan\nnan\nnan\nnan\nnan\nnan\nnan\nnan\nnan\nnan\nnan\nnan\nnan\nnan\nnan\nnan\nnan\nnan\nnan\nnan\nnan\nnan\nnan\nnan\nnan\nnan\nnan\nnan\nnan\nnan\nnan\nnan\nnan\nnan\nnan\nnan\nnan\nnan\nnan\nnan\nnan\nnan\nnan\nnan\nnan\nnan\nnan\nnan\nnan\nnan\nnan\nnan\nnan\nnan\nnan\nnan\nnan\nnan\nnan\nnan\nnan\nnan\nnan\nnan\nnan\nnan\nnan\nnan\nnan\nnan\nnan\nnan\nnan\nnan\nnan\nnan\nnan\nnan\nnan\nnan\nnan\nnan\nnan\nnan\nnan\nnan\nnan\nnan\nnan\nnan\nnan\nnan\nnan\nnan\nnan\nnan\nnan\nnan\nnan\nnan\nnan\nnan\nnan\nnan\nnan\nnan\nnan\nnan\nnan\nnan\nnan\nnan\nnan\nnan\nnan\nnan\nnan\nnan\nnan\nnan\nnan\nnan\nnan\nnan\nnan\nnan\nnan\nnan\nnan\nnan\nnan\nnan\nnan\nnan\nnan\nnan\nnan\nnan\nnan\nnan\nnan\nnan\nnan\nnan\nnan\nnan\nnan\nnan\nnan\nnan\nnan\nnan\nnan\nnan\nnan\nnan\nnan\nnan\nnan\nnan\nnan\nnan\nnan\nnan\nnan\nnan\nnan\nnan\nnan\nnan\nnan\nnan\nnan\nnan\nnan\nnan\nnan\nnan\nnan\nnan\nnan\nnan\nnan\nnan\nnan\nnan\nnan\nnan\nnan\nnan\nnan\nnan\nnan\nnan\nnan\nnan\nnan\nnan\nnan\nnan\nnan\nnan\nnan\nnan\nnan\nnan\nnan\nnan\nnan\nnan\nnan\nnan\nnan\nnan\nnan\nnan\nnan\nnan\nnan\nnan\nnan\nnan\nnan\nnan\nnan\nnan\nnan\nnan\nnan\nnan\nnan\nnan\nnan\nnan\nnan\nnan\nnan\nnan\nnan\nnan\nnan\nnan\nnan\nnan\nnan\nnan\nnan\nnan\nnan\nnan\nnan\nnan\nnan\nnan\nnan\nnan\nnan\nnan\nnan\nnan\nnan\nnan\nnan\nnan\nnan\nnan\nnan\nnan\nnan\nnan\nnan\nnan\nnan\nnan\nnan\nnan\nnan\nnan\nnan\nnan\nnan\nnan\nnan\nnan\nnan\nnan\nnan\nnan\nnan\nnan\nnan\nnan\nnan\nnan\nnan\nnan\nnan\nnan\nnan\nnan\nnan\nnan\nnan\nnan\nnan\nnan\n"
    }
   ],
   "source": [
    "for i in R_odds:\n",
    "    if i > 0:\n",
    "        impliedProbability = 100 /(i + 100) * 100\n",
    "        print(impliedProbability)\n",
    "    elif i == 0:\n",
    "        print(0)\n",
    "    else:\n",
    "        impliedProbability = (-(i) / ((-(i)) + 100)) * 100\n",
    "        print(impliedProbability)"
   ]
  },
  {
   "cell_type": "code",
   "execution_count": 10,
   "metadata": {},
   "outputs": [
    {
     "output_type": "error",
     "ename": "ValueError",
     "evalue": "cannot insert R_Implied_probability, already exists",
     "traceback": [
      "\u001b[1;31m---------------------------------------------------------------------------\u001b[0m",
      "\u001b[1;31mValueError\u001b[0m                                Traceback (most recent call last)",
      "\u001b[1;32m<ipython-input-10-5a8cf5b4330a>\u001b[0m in \u001b[0;36m<module>\u001b[1;34m\u001b[0m\n\u001b[0;32m      1\u001b[0m \u001b[1;31m#Adding column\u001b[0m\u001b[1;33m\u001b[0m\u001b[1;33m\u001b[0m\u001b[1;33m\u001b[0m\u001b[0m\n\u001b[1;32m----> 2\u001b[1;33m \u001b[0mbetting\u001b[0m\u001b[1;33m.\u001b[0m\u001b[0minsert\u001b[0m\u001b[1;33m(\u001b[0m\u001b[1;36m11\u001b[0m\u001b[1;33m,\u001b[0m \u001b[1;34m\"R_Implied_probability\"\u001b[0m\u001b[1;33m,\u001b[0m \u001b[1;36m0\u001b[0m\u001b[1;33m)\u001b[0m\u001b[1;33m\u001b[0m\u001b[1;33m\u001b[0m\u001b[0m\n\u001b[0m",
      "\u001b[1;32m~\\AppData\\Local\\Programs\\Python\\Python37\\lib\\site-packages\\pandas\\core\\frame.py\u001b[0m in \u001b[0;36minsert\u001b[1;34m(self, loc, column, value, allow_duplicates)\u001b[0m\n\u001b[0;32m   3494\u001b[0m         \u001b[0mself\u001b[0m\u001b[1;33m.\u001b[0m\u001b[0m_ensure_valid_index\u001b[0m\u001b[1;33m(\u001b[0m\u001b[0mvalue\u001b[0m\u001b[1;33m)\u001b[0m\u001b[1;33m\u001b[0m\u001b[1;33m\u001b[0m\u001b[0m\n\u001b[0;32m   3495\u001b[0m         \u001b[0mvalue\u001b[0m \u001b[1;33m=\u001b[0m \u001b[0mself\u001b[0m\u001b[1;33m.\u001b[0m\u001b[0m_sanitize_column\u001b[0m\u001b[1;33m(\u001b[0m\u001b[0mcolumn\u001b[0m\u001b[1;33m,\u001b[0m \u001b[0mvalue\u001b[0m\u001b[1;33m,\u001b[0m \u001b[0mbroadcast\u001b[0m\u001b[1;33m=\u001b[0m\u001b[1;32mFalse\u001b[0m\u001b[1;33m)\u001b[0m\u001b[1;33m\u001b[0m\u001b[1;33m\u001b[0m\u001b[0m\n\u001b[1;32m-> 3496\u001b[1;33m         \u001b[0mself\u001b[0m\u001b[1;33m.\u001b[0m\u001b[0m_data\u001b[0m\u001b[1;33m.\u001b[0m\u001b[0minsert\u001b[0m\u001b[1;33m(\u001b[0m\u001b[0mloc\u001b[0m\u001b[1;33m,\u001b[0m \u001b[0mcolumn\u001b[0m\u001b[1;33m,\u001b[0m \u001b[0mvalue\u001b[0m\u001b[1;33m,\u001b[0m \u001b[0mallow_duplicates\u001b[0m\u001b[1;33m=\u001b[0m\u001b[0mallow_duplicates\u001b[0m\u001b[1;33m)\u001b[0m\u001b[1;33m\u001b[0m\u001b[1;33m\u001b[0m\u001b[0m\n\u001b[0m\u001b[0;32m   3497\u001b[0m \u001b[1;33m\u001b[0m\u001b[0m\n\u001b[0;32m   3498\u001b[0m     \u001b[1;32mdef\u001b[0m \u001b[0massign\u001b[0m\u001b[1;33m(\u001b[0m\u001b[0mself\u001b[0m\u001b[1;33m,\u001b[0m \u001b[1;33m**\u001b[0m\u001b[0mkwargs\u001b[0m\u001b[1;33m)\u001b[0m \u001b[1;33m->\u001b[0m \u001b[1;34m\"DataFrame\"\u001b[0m\u001b[1;33m:\u001b[0m\u001b[1;33m\u001b[0m\u001b[1;33m\u001b[0m\u001b[0m\n",
      "\u001b[1;32m~\\AppData\\Local\\Programs\\Python\\Python37\\lib\\site-packages\\pandas\\core\\internals\\managers.py\u001b[0m in \u001b[0;36minsert\u001b[1;34m(self, loc, item, value, allow_duplicates)\u001b[0m\n\u001b[0;32m   1171\u001b[0m         \u001b[1;32mif\u001b[0m \u001b[1;32mnot\u001b[0m \u001b[0mallow_duplicates\u001b[0m \u001b[1;32mand\u001b[0m \u001b[0mitem\u001b[0m \u001b[1;32min\u001b[0m \u001b[0mself\u001b[0m\u001b[1;33m.\u001b[0m\u001b[0mitems\u001b[0m\u001b[1;33m:\u001b[0m\u001b[1;33m\u001b[0m\u001b[1;33m\u001b[0m\u001b[0m\n\u001b[0;32m   1172\u001b[0m             \u001b[1;31m# Should this be a different kind of error??\u001b[0m\u001b[1;33m\u001b[0m\u001b[1;33m\u001b[0m\u001b[1;33m\u001b[0m\u001b[0m\n\u001b[1;32m-> 1173\u001b[1;33m             \u001b[1;32mraise\u001b[0m \u001b[0mValueError\u001b[0m\u001b[1;33m(\u001b[0m\u001b[1;34mf\"cannot insert {item}, already exists\"\u001b[0m\u001b[1;33m)\u001b[0m\u001b[1;33m\u001b[0m\u001b[1;33m\u001b[0m\u001b[0m\n\u001b[0m\u001b[0;32m   1174\u001b[0m \u001b[1;33m\u001b[0m\u001b[0m\n\u001b[0;32m   1175\u001b[0m         \u001b[1;32mif\u001b[0m \u001b[1;32mnot\u001b[0m \u001b[0misinstance\u001b[0m\u001b[1;33m(\u001b[0m\u001b[0mloc\u001b[0m\u001b[1;33m,\u001b[0m \u001b[0mint\u001b[0m\u001b[1;33m)\u001b[0m\u001b[1;33m:\u001b[0m\u001b[1;33m\u001b[0m\u001b[1;33m\u001b[0m\u001b[0m\n",
      "\u001b[1;31mValueError\u001b[0m: cannot insert R_Implied_probability, already exists"
     ]
    }
   ],
   "source": [
    "#Adding column\n",
    "betting.insert(11, \"R_Implied_probability\", 0)"
   ]
  },
  {
   "cell_type": "code",
   "execution_count": 11,
   "metadata": {},
   "outputs": [],
   "source": [
    "#adding data to row in column\n",
    "j = 0\n",
    "for i in R_odds:\n",
    "    if i > 0:\n",
    "        impliedProbability = 100 /(i + 100) * 100\n",
    "    elif i < 0:\n",
    "        impliedProbability = (-(i) / ((-(i)) + 100)) * 100\n",
    "    else:\n",
    "        impliedProbability = 0   \n",
    "\n",
    "    betting.loc[j, \"R_Implied_probability\"] = impliedProbability\n",
    "    j = j + 1"
   ]
  },
  {
   "cell_type": "code",
   "execution_count": 12,
   "metadata": {},
   "outputs": [
    {
     "output_type": "execute_result",
     "data": {
      "text/plain": "   Unnamed: 0           R_fighter         B_fighter  R_odds  B_odds  \\\n0           0           Kevin Lee  Charles Oliveira  -145.0   135.0   \n1           1         Demian Maia     Gilbert Burns   160.0  -170.0   \n2           2      Renato Moicano    Damir Hadzovic  -345.0   315.0   \n3           3       Johnny Walker     Nikita Krylov  -137.0   127.0   \n4           4  Francisco Trinaldo     John Makdessi  -160.0   150.0   \n\n        date                            location country Winner title_bout  \\\n0  3/14/2020  Brasilia, Distrito Federal, Brazil  Brazil   Blue      False   \n1  3/14/2020  Brasilia, Distrito Federal, Brazil  Brazil   Blue      False   \n2  3/14/2020  Brasilia, Distrito Federal, Brazil  Brazil    Red      False   \n3  3/14/2020  Brasilia, Distrito Federal, Brazil  Brazil   Blue      False   \n4  3/14/2020  Brasilia, Distrito Federal, Brazil  Brazil    Red      False   \n\n        weight_class gender  B_Implied_probability  R_Implied_probability  \n0        Lightweight   MALE              42.553191              59.183673  \n1       Welterweight   MALE              62.962963              38.461538  \n2        Lightweight   MALE              24.096386              77.528090  \n3  Light Heavyweight   MALE              44.052863              57.805907  \n4        Lightweight   MALE              40.000000              61.538462  ",
      "text/html": "<div>\n<style scoped>\n    .dataframe tbody tr th:only-of-type {\n        vertical-align: middle;\n    }\n\n    .dataframe tbody tr th {\n        vertical-align: top;\n    }\n\n    .dataframe thead th {\n        text-align: right;\n    }\n</style>\n<table border=\"1\" class=\"dataframe\">\n  <thead>\n    <tr style=\"text-align: right;\">\n      <th></th>\n      <th>Unnamed: 0</th>\n      <th>R_fighter</th>\n      <th>B_fighter</th>\n      <th>R_odds</th>\n      <th>B_odds</th>\n      <th>date</th>\n      <th>location</th>\n      <th>country</th>\n      <th>Winner</th>\n      <th>title_bout</th>\n      <th>weight_class</th>\n      <th>gender</th>\n      <th>B_Implied_probability</th>\n      <th>R_Implied_probability</th>\n    </tr>\n  </thead>\n  <tbody>\n    <tr>\n      <th>0</th>\n      <td>0</td>\n      <td>Kevin Lee</td>\n      <td>Charles Oliveira</td>\n      <td>-145.0</td>\n      <td>135.0</td>\n      <td>3/14/2020</td>\n      <td>Brasilia, Distrito Federal, Brazil</td>\n      <td>Brazil</td>\n      <td>Blue</td>\n      <td>False</td>\n      <td>Lightweight</td>\n      <td>MALE</td>\n      <td>42.553191</td>\n      <td>59.183673</td>\n    </tr>\n    <tr>\n      <th>1</th>\n      <td>1</td>\n      <td>Demian Maia</td>\n      <td>Gilbert Burns</td>\n      <td>160.0</td>\n      <td>-170.0</td>\n      <td>3/14/2020</td>\n      <td>Brasilia, Distrito Federal, Brazil</td>\n      <td>Brazil</td>\n      <td>Blue</td>\n      <td>False</td>\n      <td>Welterweight</td>\n      <td>MALE</td>\n      <td>62.962963</td>\n      <td>38.461538</td>\n    </tr>\n    <tr>\n      <th>2</th>\n      <td>2</td>\n      <td>Renato Moicano</td>\n      <td>Damir Hadzovic</td>\n      <td>-345.0</td>\n      <td>315.0</td>\n      <td>3/14/2020</td>\n      <td>Brasilia, Distrito Federal, Brazil</td>\n      <td>Brazil</td>\n      <td>Red</td>\n      <td>False</td>\n      <td>Lightweight</td>\n      <td>MALE</td>\n      <td>24.096386</td>\n      <td>77.528090</td>\n    </tr>\n    <tr>\n      <th>3</th>\n      <td>3</td>\n      <td>Johnny Walker</td>\n      <td>Nikita Krylov</td>\n      <td>-137.0</td>\n      <td>127.0</td>\n      <td>3/14/2020</td>\n      <td>Brasilia, Distrito Federal, Brazil</td>\n      <td>Brazil</td>\n      <td>Blue</td>\n      <td>False</td>\n      <td>Light Heavyweight</td>\n      <td>MALE</td>\n      <td>44.052863</td>\n      <td>57.805907</td>\n    </tr>\n    <tr>\n      <th>4</th>\n      <td>4</td>\n      <td>Francisco Trinaldo</td>\n      <td>John Makdessi</td>\n      <td>-160.0</td>\n      <td>150.0</td>\n      <td>3/14/2020</td>\n      <td>Brasilia, Distrito Federal, Brazil</td>\n      <td>Brazil</td>\n      <td>Red</td>\n      <td>False</td>\n      <td>Lightweight</td>\n      <td>MALE</td>\n      <td>40.000000</td>\n      <td>61.538462</td>\n    </tr>\n  </tbody>\n</table>\n</div>"
     },
     "metadata": {},
     "execution_count": 12
    }
   ],
   "source": [
    "betting.head()"
   ]
  },
  {
   "cell_type": "code",
   "execution_count": 13,
   "metadata": {},
   "outputs": [
    {
     "output_type": "execute_result",
     "data": {
      "text/plain": "array([ 135., -170.,  315., ...,   nan,   nan,   nan])"
     },
     "metadata": {},
     "execution_count": 13
    }
   ],
   "source": [
    "B_odds = betting['B_odds'].values\n",
    "B_odds"
   ]
  },
  {
   "cell_type": "code",
   "execution_count": 14,
   "metadata": {},
   "outputs": [
    {
     "output_type": "error",
     "ename": "ValueError",
     "evalue": "cannot insert B_Implied_probability, already exists",
     "traceback": [
      "\u001b[1;31m---------------------------------------------------------------------------\u001b[0m",
      "\u001b[1;31mValueError\u001b[0m                                Traceback (most recent call last)",
      "\u001b[1;32m<ipython-input-14-9cb5e51b84b6>\u001b[0m in \u001b[0;36m<module>\u001b[1;34m\u001b[0m\n\u001b[1;32m----> 1\u001b[1;33m \u001b[0mbetting\u001b[0m\u001b[1;33m.\u001b[0m\u001b[0minsert\u001b[0m\u001b[1;33m(\u001b[0m\u001b[1;36m11\u001b[0m\u001b[1;33m,\u001b[0m \u001b[1;34m\"B_Implied_probability\"\u001b[0m\u001b[1;33m,\u001b[0m \u001b[1;36m0\u001b[0m\u001b[1;33m)\u001b[0m\u001b[1;33m\u001b[0m\u001b[1;33m\u001b[0m\u001b[0m\n\u001b[0m",
      "\u001b[1;32m~\\AppData\\Local\\Programs\\Python\\Python37\\lib\\site-packages\\pandas\\core\\frame.py\u001b[0m in \u001b[0;36minsert\u001b[1;34m(self, loc, column, value, allow_duplicates)\u001b[0m\n\u001b[0;32m   3494\u001b[0m         \u001b[0mself\u001b[0m\u001b[1;33m.\u001b[0m\u001b[0m_ensure_valid_index\u001b[0m\u001b[1;33m(\u001b[0m\u001b[0mvalue\u001b[0m\u001b[1;33m)\u001b[0m\u001b[1;33m\u001b[0m\u001b[1;33m\u001b[0m\u001b[0m\n\u001b[0;32m   3495\u001b[0m         \u001b[0mvalue\u001b[0m \u001b[1;33m=\u001b[0m \u001b[0mself\u001b[0m\u001b[1;33m.\u001b[0m\u001b[0m_sanitize_column\u001b[0m\u001b[1;33m(\u001b[0m\u001b[0mcolumn\u001b[0m\u001b[1;33m,\u001b[0m \u001b[0mvalue\u001b[0m\u001b[1;33m,\u001b[0m \u001b[0mbroadcast\u001b[0m\u001b[1;33m=\u001b[0m\u001b[1;32mFalse\u001b[0m\u001b[1;33m)\u001b[0m\u001b[1;33m\u001b[0m\u001b[1;33m\u001b[0m\u001b[0m\n\u001b[1;32m-> 3496\u001b[1;33m         \u001b[0mself\u001b[0m\u001b[1;33m.\u001b[0m\u001b[0m_data\u001b[0m\u001b[1;33m.\u001b[0m\u001b[0minsert\u001b[0m\u001b[1;33m(\u001b[0m\u001b[0mloc\u001b[0m\u001b[1;33m,\u001b[0m \u001b[0mcolumn\u001b[0m\u001b[1;33m,\u001b[0m \u001b[0mvalue\u001b[0m\u001b[1;33m,\u001b[0m \u001b[0mallow_duplicates\u001b[0m\u001b[1;33m=\u001b[0m\u001b[0mallow_duplicates\u001b[0m\u001b[1;33m)\u001b[0m\u001b[1;33m\u001b[0m\u001b[1;33m\u001b[0m\u001b[0m\n\u001b[0m\u001b[0;32m   3497\u001b[0m \u001b[1;33m\u001b[0m\u001b[0m\n\u001b[0;32m   3498\u001b[0m     \u001b[1;32mdef\u001b[0m \u001b[0massign\u001b[0m\u001b[1;33m(\u001b[0m\u001b[0mself\u001b[0m\u001b[1;33m,\u001b[0m \u001b[1;33m**\u001b[0m\u001b[0mkwargs\u001b[0m\u001b[1;33m)\u001b[0m \u001b[1;33m->\u001b[0m \u001b[1;34m\"DataFrame\"\u001b[0m\u001b[1;33m:\u001b[0m\u001b[1;33m\u001b[0m\u001b[1;33m\u001b[0m\u001b[0m\n",
      "\u001b[1;32m~\\AppData\\Local\\Programs\\Python\\Python37\\lib\\site-packages\\pandas\\core\\internals\\managers.py\u001b[0m in \u001b[0;36minsert\u001b[1;34m(self, loc, item, value, allow_duplicates)\u001b[0m\n\u001b[0;32m   1171\u001b[0m         \u001b[1;32mif\u001b[0m \u001b[1;32mnot\u001b[0m \u001b[0mallow_duplicates\u001b[0m \u001b[1;32mand\u001b[0m \u001b[0mitem\u001b[0m \u001b[1;32min\u001b[0m \u001b[0mself\u001b[0m\u001b[1;33m.\u001b[0m\u001b[0mitems\u001b[0m\u001b[1;33m:\u001b[0m\u001b[1;33m\u001b[0m\u001b[1;33m\u001b[0m\u001b[0m\n\u001b[0;32m   1172\u001b[0m             \u001b[1;31m# Should this be a different kind of error??\u001b[0m\u001b[1;33m\u001b[0m\u001b[1;33m\u001b[0m\u001b[1;33m\u001b[0m\u001b[0m\n\u001b[1;32m-> 1173\u001b[1;33m             \u001b[1;32mraise\u001b[0m \u001b[0mValueError\u001b[0m\u001b[1;33m(\u001b[0m\u001b[1;34mf\"cannot insert {item}, already exists\"\u001b[0m\u001b[1;33m)\u001b[0m\u001b[1;33m\u001b[0m\u001b[1;33m\u001b[0m\u001b[0m\n\u001b[0m\u001b[0;32m   1174\u001b[0m \u001b[1;33m\u001b[0m\u001b[0m\n\u001b[0;32m   1175\u001b[0m         \u001b[1;32mif\u001b[0m \u001b[1;32mnot\u001b[0m \u001b[0misinstance\u001b[0m\u001b[1;33m(\u001b[0m\u001b[0mloc\u001b[0m\u001b[1;33m,\u001b[0m \u001b[0mint\u001b[0m\u001b[1;33m)\u001b[0m\u001b[1;33m:\u001b[0m\u001b[1;33m\u001b[0m\u001b[1;33m\u001b[0m\u001b[0m\n",
      "\u001b[1;31mValueError\u001b[0m: cannot insert B_Implied_probability, already exists"
     ]
    }
   ],
   "source": [
    "betting.insert(11, \"B_Implied_probability\", 0)"
   ]
  },
  {
   "cell_type": "code",
   "execution_count": 15,
   "metadata": {},
   "outputs": [],
   "source": [
    "j = 0\n",
    "for i in B_odds:\n",
    "    if i > 0:\n",
    "        impliedProbability = 100 /(i + 100) * 100\n",
    "    elif i < 0:\n",
    "        impliedProbability = (-(i) / ((-(i)) + 100)) * 100\n",
    "    else:\n",
    "        impliedProbability = 0   \n",
    "\n",
    "    betting.loc[j, \"B_Implied_probability\"] = impliedProbability\n",
    "    j = j + 1"
   ]
  },
  {
   "cell_type": "code",
   "execution_count": 16,
   "metadata": {},
   "outputs": [
    {
     "output_type": "execute_result",
     "data": {
      "text/plain": "   Unnamed: 0           R_fighter         B_fighter  R_odds  B_odds  \\\n0           0           Kevin Lee  Charles Oliveira  -145.0   135.0   \n1           1         Demian Maia     Gilbert Burns   160.0  -170.0   \n2           2      Renato Moicano    Damir Hadzovic  -345.0   315.0   \n3           3       Johnny Walker     Nikita Krylov  -137.0   127.0   \n4           4  Francisco Trinaldo     John Makdessi  -160.0   150.0   \n\n        date                            location country Winner title_bout  \\\n0  3/14/2020  Brasilia, Distrito Federal, Brazil  Brazil   Blue      False   \n1  3/14/2020  Brasilia, Distrito Federal, Brazil  Brazil   Blue      False   \n2  3/14/2020  Brasilia, Distrito Federal, Brazil  Brazil    Red      False   \n3  3/14/2020  Brasilia, Distrito Federal, Brazil  Brazil   Blue      False   \n4  3/14/2020  Brasilia, Distrito Federal, Brazil  Brazil    Red      False   \n\n        weight_class gender  B_Implied_probability  R_Implied_probability  \n0        Lightweight   MALE              42.553191              59.183673  \n1       Welterweight   MALE              62.962963              38.461538  \n2        Lightweight   MALE              24.096386              77.528090  \n3  Light Heavyweight   MALE              44.052863              57.805907  \n4        Lightweight   MALE              40.000000              61.538462  ",
      "text/html": "<div>\n<style scoped>\n    .dataframe tbody tr th:only-of-type {\n        vertical-align: middle;\n    }\n\n    .dataframe tbody tr th {\n        vertical-align: top;\n    }\n\n    .dataframe thead th {\n        text-align: right;\n    }\n</style>\n<table border=\"1\" class=\"dataframe\">\n  <thead>\n    <tr style=\"text-align: right;\">\n      <th></th>\n      <th>Unnamed: 0</th>\n      <th>R_fighter</th>\n      <th>B_fighter</th>\n      <th>R_odds</th>\n      <th>B_odds</th>\n      <th>date</th>\n      <th>location</th>\n      <th>country</th>\n      <th>Winner</th>\n      <th>title_bout</th>\n      <th>weight_class</th>\n      <th>gender</th>\n      <th>B_Implied_probability</th>\n      <th>R_Implied_probability</th>\n    </tr>\n  </thead>\n  <tbody>\n    <tr>\n      <th>0</th>\n      <td>0</td>\n      <td>Kevin Lee</td>\n      <td>Charles Oliveira</td>\n      <td>-145.0</td>\n      <td>135.0</td>\n      <td>3/14/2020</td>\n      <td>Brasilia, Distrito Federal, Brazil</td>\n      <td>Brazil</td>\n      <td>Blue</td>\n      <td>False</td>\n      <td>Lightweight</td>\n      <td>MALE</td>\n      <td>42.553191</td>\n      <td>59.183673</td>\n    </tr>\n    <tr>\n      <th>1</th>\n      <td>1</td>\n      <td>Demian Maia</td>\n      <td>Gilbert Burns</td>\n      <td>160.0</td>\n      <td>-170.0</td>\n      <td>3/14/2020</td>\n      <td>Brasilia, Distrito Federal, Brazil</td>\n      <td>Brazil</td>\n      <td>Blue</td>\n      <td>False</td>\n      <td>Welterweight</td>\n      <td>MALE</td>\n      <td>62.962963</td>\n      <td>38.461538</td>\n    </tr>\n    <tr>\n      <th>2</th>\n      <td>2</td>\n      <td>Renato Moicano</td>\n      <td>Damir Hadzovic</td>\n      <td>-345.0</td>\n      <td>315.0</td>\n      <td>3/14/2020</td>\n      <td>Brasilia, Distrito Federal, Brazil</td>\n      <td>Brazil</td>\n      <td>Red</td>\n      <td>False</td>\n      <td>Lightweight</td>\n      <td>MALE</td>\n      <td>24.096386</td>\n      <td>77.528090</td>\n    </tr>\n    <tr>\n      <th>3</th>\n      <td>3</td>\n      <td>Johnny Walker</td>\n      <td>Nikita Krylov</td>\n      <td>-137.0</td>\n      <td>127.0</td>\n      <td>3/14/2020</td>\n      <td>Brasilia, Distrito Federal, Brazil</td>\n      <td>Brazil</td>\n      <td>Blue</td>\n      <td>False</td>\n      <td>Light Heavyweight</td>\n      <td>MALE</td>\n      <td>44.052863</td>\n      <td>57.805907</td>\n    </tr>\n    <tr>\n      <th>4</th>\n      <td>4</td>\n      <td>Francisco Trinaldo</td>\n      <td>John Makdessi</td>\n      <td>-160.0</td>\n      <td>150.0</td>\n      <td>3/14/2020</td>\n      <td>Brasilia, Distrito Federal, Brazil</td>\n      <td>Brazil</td>\n      <td>Red</td>\n      <td>False</td>\n      <td>Lightweight</td>\n      <td>MALE</td>\n      <td>40.000000</td>\n      <td>61.538462</td>\n    </tr>\n  </tbody>\n</table>\n</div>"
     },
     "metadata": {},
     "execution_count": 16
    }
   ],
   "source": [
    "betting.head()"
   ]
  },
  {
   "cell_type": "code",
   "execution_count": 17,
   "metadata": {},
   "outputs": [],
   "source": [
    "#Saving to the csv file\n",
    "betting[\"B_Implied_probability\"] = betting[\"B_Implied_probability\"] / 100\n",
    "betting[\"R_Implied_probability\"] = betting[\"R_Implied_probability\"] / 100\n",
    "\n",
    "betting.to_csv(\"UFC-data/fightodds.csv\")\n"
   ]
  },
  {
   "cell_type": "code",
   "execution_count": null,
   "metadata": {},
   "outputs": [],
   "source": []
  }
 ],
 "metadata": {
  "language_info": {
   "codemirror_mode": {
    "name": "ipython",
    "version": 3
   },
   "file_extension": ".py",
   "mimetype": "text/x-python",
   "name": "python",
   "nbconvert_exporter": "python",
   "pygments_lexer": "ipython3",
   "version": "3.7.5-final"
  },
  "orig_nbformat": 2,
  "kernelspec": {
   "name": "python37564bit8153ed8c25bd45b7b4519484779c0773",
   "display_name": "Python 3.7.5 64-bit"
  }
 },
 "nbformat": 4,
 "nbformat_minor": 2
}