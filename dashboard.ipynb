{
 "cells": [
  {
   "cell_type": "code",
   "execution_count": null,
   "metadata": {},
   "outputs": [],
   "source": [
    "import pandas as pd\n",
    "import matplotlib.pyplot as plt\n",
    "import numpy as np"
   ]
  },
  {
   "cell_type": "code",
   "execution_count": null,
   "metadata": {
    "tags": []
   },
   "outputs": [],
   "source": [
    "# First let's take a look at the data, that is available to us.\n",
    "# The first file we have is called `ufc-fights-model.csv`.\n",
    "# This file contains raw fight data, which we can use to train a model,\n",
    "# to predict fights with.\n",
    "\n",
    "df = pd.read_csv(\"UFC-data/ufc-fights-model.csv\").drop(columns=[\"Unnamed: 0\"])\n",
    "\n",
    "print(df.columns)"
   ]
  },
  {
   "cell_type": "code",
   "execution_count": null,
   "metadata": {
    "tags": []
   },
   "outputs": [],
   "source": [
    "# We can see that this dataset contains metrics for each fighter.\n",
    "# Each fighter has a name, height, weight, reach, stance, date of birth,\n",
    "# but also things like Take Down Average, Strength Defence, Strice Accuracy and Submission Average.\n",
    "# This is the data we will use to train a model with, which will predict fights.\n",
    "# The last column: `Win` will be used to label the data.\n",
    "# Before the AI can train with this data, the data needs to be preprocessed.\n",
    "# We can call the preprocessor script to preprocess the entire dataset, which will be used for training,\n",
    "# or we can preprocess a single fighter, if we want to predict this fighters fights.\n",
    "\n",
    "from preprocessor import preprocess\n",
    "\n",
    "preprocess(\"Conor McGregor\", 0.25)\n",
    "preprocess(\"Khabib Nurmagomedov\", 0.25)"
   ]
  },
  {
   "cell_type": "code",
   "execution_count": null,
   "metadata": {},
   "outputs": [],
   "source": [
    "preprocess(\"\")"
   ]
  },
  {
   "cell_type": "code",
   "execution_count": null,
   "metadata": {
    "tags": []
   },
   "outputs": [],
   "source": [
    "# This script has created 4 files, for each fighter, in the `models/` directory.\n",
    "# This these 4 files are `x_train.npy`, `x_test.npy`, `y_train.npy` and `y_test.npy`.\n",
    "# These are binary numpy files, which can directly be read with our model.\n",
    "# Now that we have preprocessed Conor McGregor and Khabib Nurmagomedov, we can\n",
    "# let our model predict those fights.\n",
    "\n",
    "from predict import predict\n",
    "\n",
    "predict(\"Conor McGregor\")\n",
    "predict(\"Khabib Nurmagomedov\")"
   ]
  },
  {
   "cell_type": "code",
   "execution_count": null,
   "metadata": {
    "tags": []
   },
   "outputs": [],
   "source": [
    "# As you can see, Conor is much less predictable than Khabib.\n",
    "# From the 9 fights the model predicted, it was right 33% of the time for Conor.\n",
    "# For the 11 fights from Khabib however, the model was right on all 11 fights.\n",
    "# This raises the question, if the model predicts fights purely based on skill,\n",
    "# are there other factors that influence the outcome of a match?\n",
    "# Even though the answer is almost certainly yes, we cannot draw the conclusion\n",
    "# that it must be match fixing.\n",
    "# Micha told us that the most likely reason for match fixing is making money on betting odds.\n",
    "# This is why we compare the results of the AI with the odds of the bookkeepers.\n",
    "# This can be done with the `compare.py` script, in which we compare the data we have of a\n",
    "# fighter, with the odds the bookies gave.\n",
    "\n",
    "import compare\n",
    "\n",
    "c_results = compare.main(\"Conor McGregor\")\n",
    "k_results = compare.main(\"Khabib Nurmagomedov\")"
   ]
  },
  {
   "cell_type": "code",
   "execution_count": null,
   "metadata": {},
   "outputs": [],
   "source": [
    "# This process has been run in the `batch_compare.py` script, for the entire dataset.\n",
    "# All fights of each fighter have been analysed and stored in `analysis.csv`.\n",
    "# We can load these and take a look at them.\n",
    "\n",
    "df = pd.read_csv(\"analysis.csv\")\n",
    "remove = []\n",
    "\n",
    "for i in range(len(df)):\n",
    "    r = df.iloc[i][\"red\"]\n",
    "    b = df.iloc[i][\"blue\"]\n",
    "\n",
    "    remove_at = df[(df[\"red\"] == r) & (df[\"blue\"] == b)].index.max()\n",
    "    \n",
    "    if remove_at not in remove:\n",
    "        remove.append(remove_at)\n",
    "\n",
    "df = df.drop(remove)\n",
    "df.to_csv(\"analysis2.csv\")"
   ]
  },
  {
   "cell_type": "code",
   "execution_count": null,
   "metadata": {
    "tags": []
   },
   "outputs": [],
   "source": [
    "# Filtering data, looking for match fixing by bookies.\n",
    "idx = df[df[\"ai_err\"] > df[\"bookies_err\"]]\n",
    "\n",
    "idx[\"delta\"] = np.zeros((len(idx),))\n",
    "idx.reset_index(drop=True, inplace=True)\n",
    "\n",
    "for i in range(len(idx)):\n",
    "    delta = abs(idx.iloc[i][\"bookies\"] - idx.iloc[i][\"ai\"])\n",
    "    idx.at[i, \"delta\"] = delta\n",
    "\n",
    "idx.to_csv(\"analysis3.csv\")\n"
   ]
  },
  {
   "cell_type": "code",
   "execution_count": null,
   "metadata": {},
   "outputs": [],
   "source": [
    "# Filtering that data, looking for match fixing by outsiders.\n",
    "df = pd.read_csv(\"analysis3.csv\")\n",
    "\n",
    "df = df[df[\"ai_err\"] >= 0.5]\n",
    "df = df.drop(columns=[\"Unnamed: 0\"])\n",
    "df.to_csv(\"analysis4.csv\")"
   ]
  },
  {
   "cell_type": "code",
   "execution_count": null,
   "metadata": {},
   "outputs": [],
   "source": [
    "# Looking for data where both the AI and the bookies are wrong.\n",
    "df = pd.read_csv(\"analysis2.csv\")\n",
    "\n",
    "df = df[(df[\"ai_err\"] >= 0.5) & (df[\"bookies_err\"] >= 0.5)]\n",
    "df = df.drop(columns=[\"Unnamed: 0\"])\n",
    "df.to_csv(\"analysis5.csv\")\n",
    "\n",
    "print(df.head())"
   ]
  },
  {
   "cell_type": "code",
   "execution_count": null,
   "metadata": {},
   "outputs": [],
   "source": [
    "# Looking at the fighters occurance in the last set.\n",
    "\n",
    "fighters = pd.DataFrame(columns=[\"count\"])\n",
    "\n",
    "for i in range(len(df)):\n",
    "    # f = \"\"\n",
    "    # if df.iloc[i][\"actual\"] == 1:\n",
    "    #     f = df.iloc[i][\"blue\"]\n",
    "    # else:\n",
    "    #     f = df.iloc[i][\"red\"]\n",
    "\n",
    "    f = df.iloc[i][\"red\"]\n",
    "\n",
    "    if f in fighters.index.values:\n",
    "        fighters.at[f, \"count\"] += 1\n",
    "    else:\n",
    "        fighters.at[f, \"count\"] = 1\n",
    "\n",
    "fighters = fighters.sort_values(by=[\"count\"], ascending=False)\n",
    "fighters.to_csv(\"analysis6.csv\")\n",
    "\n",
    "print(fighters.head(30))"
   ]
  },
  {
   "cell_type": "code",
   "execution_count": null,
   "metadata": {},
   "outputs": [],
   "source": [
    "# Where bookies get it wrong and ai gets it wrong, might indicate match fixing by outsiders.\n",
    "\n",
    "# Where AI gets it wrong and bookies get it right, might indicate match fixing by bookies.\n",
    "\n",
    "# In all cases the AI gets it wrong, it might indicate Error in the AI.\n",
    "\n",
    "# In the sanddance graph where x = delta, and we color by ai err, and sort by ai, we can see that the green on the top is the outsiders match fixing, and the green on the bottom is the bookies match fixing, The area in the middle is where the AI was right, regardless of what the bookies thought.\n",
    "# The further you go eft, the more certain you are of match fixing, the further you go to the right, the more certain you are of no match fixing.???\n"
   ]
  }
 ],
 "metadata": {
  "language_info": {
   "codemirror_mode": {
    "name": "ipython",
    "version": 3
   },
   "file_extension": ".py",
   "mimetype": "text/x-python",
   "name": "python",
   "nbconvert_exporter": "python",
   "pygments_lexer": "ipython3",
   "version": "3.7.5-final"
  },
  "orig_nbformat": 2,
  "kernelspec": {
   "name": "python37564bit8153ed8c25bd45b7b4519484779c0773",
   "display_name": "Python 3.7.5 64-bit"
  }
 },
 "nbformat": 4,
 "nbformat_minor": 2
}