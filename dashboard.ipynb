{
 "cells": [
  {
   "cell_type": "code",
   "execution_count": 11,
   "metadata": {},
   "outputs": [],
   "source": [
    "import pandas as pd\n",
    "import matplotlib.pyplot as plt\n",
    "import numpy as np"
   ]
  },
  {
   "cell_type": "code",
   "execution_count": 12,
   "metadata": {},
   "outputs": [
    {
     "output_type": "stream",
     "name": "stdout",
     "text": "Index(['Name', 'Height', 'Weight', 'Reach', 'Stance', 'DOB', 'SLpm', 'SAcc',\n       'SApm', 'StrDef', 'TDAvg', 'TDAcc', 'TDDef', 'SubAvg', 'AvgTime2Win',\n       'Name.1', 'Height.1', 'Weight.1', 'Reach.1', 'Stance.1', 'DOB.1',\n       'SLpm.1', 'SAcc.1', 'SApm.1', 'StrDef.1', 'TDAvg.1', 'TDAcc.1',\n       'TDDef.1', 'SubAvg.1', 'AvgTime2Win.1', 'Win'],\n      dtype='object')\n"
    }
   ],
   "source": [
    "# First let's take a look at the data, that is available to us.\n",
    "# The first file we have is called `ufc-fights-model.csv`.\n",
    "# This file contains raw fight data, which we can use to train a model,\n",
    "# to predict fights with.\n",
    "\n",
    "df = pd.read_csv(\"UFC-data/ufc-fights-model.csv\").drop(columns=[\"Unnamed: 0\"])\n",
    "\n",
    "print(df.columns)"
   ]
  },
  {
   "cell_type": "code",
   "execution_count": 13,
   "metadata": {},
   "outputs": [
    {
     "output_type": "stream",
     "name": "stdout",
     "text": "(6, 32)\n(3, 32)\n(6, 1)\n(3, 1)\n(8, 32)\n(3, 32)\n(8, 1)\n(3, 1)\n"
    }
   ],
   "source": [
    "# We can see that this dataset contains metrics for each fighter.\n",
    "# Each fighter has a name, height, weight, reach, stance, date of birth,\n",
    "# but also things like Take Down Average, Strength Defence, Strice Accuracy and Submission Average.\n",
    "# This is the data we will use to train a model with, which will predict fights.\n",
    "# The last column: `Win` will be used to label the data.\n",
    "# Before the AI can train with this data, the data needs to be preprocessed.\n",
    "# We can call the preprocessor script to preprocess the entire dataset, which will be used for training,\n",
    "# or we can preprocess a single fighter, if we want to predict this fighters fights.\n",
    "\n",
    "from preprocessor import preprocess\n",
    "\n",
    "preprocess(\"Conor McGregor\", 0.25)\n",
    "preprocess(\"Khabib Nurmagomedov\", 0.25)"
   ]
  },
  {
   "cell_type": "code",
   "execution_count": 14,
   "metadata": {},
   "outputs": [
    {
     "output_type": "stream",
     "name": "stdout",
     "text": "Actual: [1]     Prediction: [0.03594884]      Error: [0.96405116]\nMISS\nActual: [1]     Prediction: [0.99942625]      Error: [0.00057375]\nCORRECT\nActual: [1]     Prediction: [0.98735577]      Error: [0.01264423]\nCORRECT\nActual: [1]     Prediction: [0.27439827]      Error: [0.72560173]\nMISS\nActual: [0]     Prediction: [0.9983675]      Error: [0.99836749]\nMISS\nActual: [1]     Prediction: [0.782108]      Error: [0.21789199]\nCORRECT\nActual: [1]     Prediction: [0.17706937]      Error: [0.82293063]\nMISS\nActual: [1]     Prediction: [0.03333148]      Error: [0.96666852]\nMISS\nActual: [0]     Prediction: [0.99868196]      Error: [0.99868196]\nMISS\n##########################################\nCorrect: 3      Fault: 6\nAccuracy: 0.3333333333333333\nActual: [1]     Prediction: [0.9998501]      Error: [0.00014991]\nCORRECT\nActual: [1]     Prediction: [0.9980264]      Error: [0.00197363]\nCORRECT\nActual: [0]     Prediction: [4.4107437e-06]      Error: [4.41074371e-06]\nCORRECT\nActual: [0]     Prediction: [0.00196999]      Error: [0.00196999]\nCORRECT\nActual: [0]     Prediction: [0.03011957]      Error: [0.03011957]\nCORRECT\nActual: [1]     Prediction: [0.9994296]      Error: [0.00057042]\nCORRECT\nActual: [0]     Prediction: [0.00167525]      Error: [0.00167525]\nCORRECT\nActual: [1]     Prediction: [0.9966519]      Error: [0.00334811]\nCORRECT\nActual: [1]     Prediction: [0.99990547]      Error: [9.45329666e-05]\nCORRECT\nActual: [1]     Prediction: [0.99999785]      Error: [2.14576721e-06]\nCORRECT\nActual: [0]     Prediction: [0.00025873]      Error: [0.00025873]\nCORRECT\n##########################################\nCorrect: 11      Fault: 0\nAccuracy: 1.0\n"
    },
    {
     "output_type": "execute_result",
     "data": {
      "text/plain": "(11, 0, 1.0)"
     },
     "metadata": {},
     "execution_count": 14
    }
   ],
   "source": [
    "# This script has created 4 files, for each fighter, in the `models/` directory.\n",
    "# This these 4 files are `x_train.npy`, `x_test.npy`, `y_train.npy` and `y_test.npy`.\n",
    "# These are binary numpy files, which can directly be read with our model.\n",
    "# Now that we have preprocessed Conor McGregor and Khabib Nurmagomedov, we can\n",
    "# let our model predict those fights.\n",
    "\n",
    "from predict import predict\n",
    "\n",
    "predict(\"Conor McGregor\")\n",
    "predict(\"Khabib Nurmagomedov\")"
   ]
  },
  {
   "cell_type": "code",
   "execution_count": 15,
   "metadata": {},
   "outputs": [
    {
     "output_type": "stream",
     "name": "stdout",
     "text": "R: Conor McGregor, B: Dennis Siver, ACTUAL: 1, AI: 0.5202218294143677, BOOKIES: 0.9069767441860463\nR: Conor McGregor, B: Nate Diaz, ACTUAL: 1, AI: 0.07746681571006775, BOOKIES: 0.8095238095238095\nR: Dustin Poirier, B: Conor McGregor, ACTUAL: 0, AI: 0.999993085861206, BOOKIES: 0.29411764705882354\nR: Khabib Nurmagomedov, B: Conor McGregor, ACTUAL: 1, AI: 0.9998955726623535, BOOKIES: 0.6551724137931035\nR: Nate Diaz, B: Conor McGregor, ACTUAL: 1, AI: 0.9984309077262878, BOOKIES: 0.4651162790697674\nR: Gleison Tibau, B: Khabib Nurmagomedov, ACTUAL: 0, AI: 0.0013813674449920654, BOOKIES: 0.6047430830039525\nR: Kamal Shalorus, B: Khabib Nurmagomedov, ACTUAL: 0, AI: 7.155537605285645e-05, BOOKIES: 0.5\nR: Khabib Nurmagomedov, B: Al Iaquinta, ACTUAL: 1, AI: 0.9998892545700073, BOOKIES: 0.8648648648648648\nR: Khabib Nurmagomedov, B: Conor McGregor, ACTUAL: 1, AI: 0.999997615814209, BOOKIES: 0.6551724137931035\nR: Khabib Nurmagomedov, B: Darrell Horcher, ACTUAL: 1, AI: 0.9978224039077759, BOOKIES: 0.9090909090909092\nR: Khabib Nurmagomedov, B: Dustin Poirier, ACTUAL: 1, AI: 0.9961501359939575, BOOKIES: 0.8\nR: Khabib Nurmagomedov, B: Edson Barboza, ACTUAL: 1, AI: 0.9993426203727722, BOOKIES: 0.8039215686274509\nR: Khabib Nurmagomedov, B: Michael Johnson, ACTUAL: 1, AI: 0.9998266696929932, BOOKIES: 0.7752808988764045\nR: Pat Healy, B: Khabib Nurmagomedov, ACTUAL: 0, AI: 0.008004292845726013, BOOKIES: 0.2898550724637681\nR: Thiago Tavares, B: Khabib Nurmagomedov, ACTUAL: 0, AI: 4.792224717675708e-05, BOOKIES: 0.3636363636363637\n"
    }
   ],
   "source": [
    "# As you can see, Conor is much less predictable than Khabib.\n",
    "# From the 9 fights the model predicted, it was right 33% of the time for Conor.\n",
    "# For the 11 fights from Khabib however, the model was right on all 11 fights.\n",
    "# This raises the question, if the model predicts fights purely based on skill,\n",
    "# are there other factors that influence the outcome of a match?\n",
    "# Even though the answer is almost certainly yes, we cannot draw the conclusion\n",
    "# that it must be match fixing.\n",
    "# Micha told us that the most likely reason for match fixing is making money on betting odds.\n",
    "# This is why we compare the results of the AI with the odds of the bookkeepers.\n",
    "# This can be done with the `compare.py` script, in which we compare the data we have of a\n",
    "# fighter, with the odds the bookies gave.\n",
    "\n",
    "import compare\n",
    "\n",
    "c_results = compare.main(\"Conor McGregor\")\n",
    "k_results = compare.main(\"Khabib Nurmagomedov\")"
   ]
  },
  {
   "cell_type": "code",
   "execution_count": 16,
   "metadata": {},
   "outputs": [],
   "source": [
    "# This process has been run in the `batch_compare.py` script, for the entire dataset.\n",
    "# All fights of each fighter have been analysed and stored in `analysis.csv`.\n",
    "# We can load these and take a look at them.\n",
    "\n",
    "df = pd.read_csv(\"analysis.csv\")\n",
    "remove = []\n",
    "\n",
    "for i in range(len(df)):\n",
    "    r = df.iloc[i][\"red\"]\n",
    "    b = df.iloc[i][\"blue\"]\n",
    "\n",
    "    remove_at = df[(df[\"red\"] == r) & (df[\"blue\"] == b)].index.max()\n",
    "    \n",
    "    if remove_at not in remove:\n",
    "        remove.append(remove_at)\n",
    "\n",
    "df = df.drop(remove)\n",
    "df.to_csv(\"analysis2.csv\")"
   ]
  },
  {
   "cell_type": "code",
   "execution_count": 17,
   "metadata": {
    "tags": [
     "outputPrepend"
    ]
   },
   "outputs": [],
   "source": [
    "idx = df[df[\"ai_err\"] > df[\"bookies_err\"]]\n",
    "\n",
    "idx[\"delta\"] = np.zeros((len(idx),))\n",
    "idx.reset_index(drop=True, inplace=True)\n",
    "\n",
    "for i in range(len(idx)):\n",
    "    delta = abs(idx.iloc[i][\"bookies\"] - idx.iloc[i][\"ai\"])\n",
    "    idx.at[i, \"delta\"] = delta\n",
    "\n",
    "idx.to_csv(\"analysis3.csv\")\n"
   ]
  },
  {
   "cell_type": "code",
   "execution_count": 20,
   "metadata": {},
   "outputs": [],
   "source": [
    "df = pd.read_csv(\"analysis3.csv\")\n",
    "\n",
    "df = df[df[\"ai_err\"] >= 0.5]\n",
    "df = df.drop(columns=[\"Unnamed: 0\"])\n",
    "df.to_csv(\"analysis4.csv\")"
   ]
  },
  {
   "cell_type": "code",
   "execution_count": null,
   "metadata": {},
   "outputs": [],
   "source": [
    "# Where bookies get it wrong and ai gets it wrong, might indicate match fixing by outsiders.\n",
    "\n",
    "# Where AI gets it wrong and bookies get it right, might indicate match fixing by bookies.\n",
    "\n",
    "# In all cases the AI gets it wrong, it might indicate Error in the AI.\n",
    "\n",
    "# In the sanddance graph where x = delta, and we color by ai err, and sort by ai, we can see that the green on the top is the outsiders match fixing, and the green on the bottom is the bookies match fixing, The area in the middle is where the AI was right, regardless of what the bookies thought.\n",
    "# The further you go eft, the more certain you are of match fixing, the further you go to the right, the more certain you are of no match fixing.???"
   ]
  }
 ],
 "metadata": {
  "language_info": {
   "codemirror_mode": {
    "name": "ipython",
    "version": 3
   },
   "file_extension": ".py",
   "mimetype": "text/x-python",
   "name": "python",
   "nbconvert_exporter": "python",
   "pygments_lexer": "ipython3",
   "version": "3.7.5-final"
  },
  "orig_nbformat": 2,
  "kernelspec": {
   "name": "python37564bit8153ed8c25bd45b7b4519484779c0773",
   "display_name": "Python 3.7.5 64-bit"
  }
 },
 "nbformat": 4,
 "nbformat_minor": 2
}