{
 "cells": [
  {
   "cell_type": "code",
   "execution_count": 1,
   "metadata": {},
   "outputs": [
    {
     "output_type": "stream",
     "name": "stderr",
     "text": "Using TensorFlow backend.\n"
    }
   ],
   "source": [
    "import pandas as pd\n",
    "import numpy as np\n",
    "import matplotlib.pyplot as plt\n",
    "from sklearn import model_selection\n",
    "from keras.models import Sequential\n",
    "from keras.layers import Dense, Dropout, InputLayer"
   ]
  },
  {
   "cell_type": "code",
   "execution_count": 2,
   "metadata": {},
   "outputs": [
    {
     "output_type": "execute_result",
     "data": {
      "text/plain": "                     Name  Height  Weight  Reach    Stance   DOB  SLpm  SAcc  \\\n973        Conor McGregor  1.7526     155     74  Southpaw  1988  5.27  0.48   \n1042       Conor McGregor  1.7526     155     74  Southpaw  1988  5.27  0.48   \n1254       Conor McGregor  1.7526     155     74  Southpaw  1988  5.27  0.48   \n1380       Conor McGregor  1.7526     155     74  Southpaw  1988  5.27  0.48   \n1544       Conor McGregor  1.7526     155     74  Southpaw  1988  5.27  0.48   \n393   Khabib Nurmagomedov  1.7780     155     70  Orthodox  1988  4.11  0.49   \n1186            Nate Diaz  1.8288     170     76  Southpaw  1985  4.62  0.45   \n1643       Dustin Poirier  1.7526     155     72  Southpaw  1989  5.51  0.49   \n2036         Max Holloway  1.8034     145     69  Orthodox  1991  6.66  0.44   \n\n      SApm  StrDef  ...  SLpm.1  SAcc.1  SApm.1  StrDef.1  TDAvg.1 TDAcc.1  \\\n973   4.43    0.55  ...    4.32    0.41    4.39      0.55     2.92    0.36   \n1042  4.43    0.55  ...    4.62    0.45    3.78      0.53     1.19    0.30   \n1254  4.43    0.55  ...    3.47    0.44    3.18      0.65     0.64    0.65   \n1380  4.43    0.55  ...    2.78    0.49    2.35      0.67     4.13    0.55   \n1544  4.43    0.55  ...    3.87    0.32    2.67      0.65     0.87    0.32   \n393   1.65    0.67  ...    5.27    0.48    4.43      0.55     0.75    0.62   \n1186  3.78    0.53  ...    5.27    0.48    4.43      0.55     0.75    0.62   \n1643  3.97    0.56  ...    5.27    0.48    4.43      0.55     0.75    0.62   \n2036  4.45    0.62  ...    5.27    0.48    4.43      0.55     0.75    0.62   \n\n      TDDef.1  SubAvg.1  AvgTime2Win.1 Win  \n973      0.92       0.5          10.11   1  \n1042     0.42       1.4           8.24   1  \n1254     0.91       0.1          13.61   1  \n1380     1.00       0.3           8.61   1  \n1544     0.65       0.3          11.72   1  \n393      0.70       0.0           8.01   1  \n1186     0.70       0.0           8.01   1  \n1643     0.70       0.0           8.01   0  \n2036     0.70       0.0           8.01   0  \n\n[9 rows x 31 columns]",
      "text/html": "<div>\n<style scoped>\n    .dataframe tbody tr th:only-of-type {\n        vertical-align: middle;\n    }\n\n    .dataframe tbody tr th {\n        vertical-align: top;\n    }\n\n    .dataframe thead th {\n        text-align: right;\n    }\n</style>\n<table border=\"1\" class=\"dataframe\">\n  <thead>\n    <tr style=\"text-align: right;\">\n      <th></th>\n      <th>Name</th>\n      <th>Height</th>\n      <th>Weight</th>\n      <th>Reach</th>\n      <th>Stance</th>\n      <th>DOB</th>\n      <th>SLpm</th>\n      <th>SAcc</th>\n      <th>SApm</th>\n      <th>StrDef</th>\n      <th>...</th>\n      <th>SLpm.1</th>\n      <th>SAcc.1</th>\n      <th>SApm.1</th>\n      <th>StrDef.1</th>\n      <th>TDAvg.1</th>\n      <th>TDAcc.1</th>\n      <th>TDDef.1</th>\n      <th>SubAvg.1</th>\n      <th>AvgTime2Win.1</th>\n      <th>Win</th>\n    </tr>\n  </thead>\n  <tbody>\n    <tr>\n      <th>973</th>\n      <td>Conor McGregor</td>\n      <td>1.7526</td>\n      <td>155</td>\n      <td>74</td>\n      <td>Southpaw</td>\n      <td>1988</td>\n      <td>5.27</td>\n      <td>0.48</td>\n      <td>4.43</td>\n      <td>0.55</td>\n      <td>...</td>\n      <td>4.32</td>\n      <td>0.41</td>\n      <td>4.39</td>\n      <td>0.55</td>\n      <td>2.92</td>\n      <td>0.36</td>\n      <td>0.92</td>\n      <td>0.5</td>\n      <td>10.11</td>\n      <td>1</td>\n    </tr>\n    <tr>\n      <th>1042</th>\n      <td>Conor McGregor</td>\n      <td>1.7526</td>\n      <td>155</td>\n      <td>74</td>\n      <td>Southpaw</td>\n      <td>1988</td>\n      <td>5.27</td>\n      <td>0.48</td>\n      <td>4.43</td>\n      <td>0.55</td>\n      <td>...</td>\n      <td>4.62</td>\n      <td>0.45</td>\n      <td>3.78</td>\n      <td>0.53</td>\n      <td>1.19</td>\n      <td>0.30</td>\n      <td>0.42</td>\n      <td>1.4</td>\n      <td>8.24</td>\n      <td>1</td>\n    </tr>\n    <tr>\n      <th>1254</th>\n      <td>Conor McGregor</td>\n      <td>1.7526</td>\n      <td>155</td>\n      <td>74</td>\n      <td>Southpaw</td>\n      <td>1988</td>\n      <td>5.27</td>\n      <td>0.48</td>\n      <td>4.43</td>\n      <td>0.55</td>\n      <td>...</td>\n      <td>3.47</td>\n      <td>0.44</td>\n      <td>3.18</td>\n      <td>0.65</td>\n      <td>0.64</td>\n      <td>0.65</td>\n      <td>0.91</td>\n      <td>0.1</td>\n      <td>13.61</td>\n      <td>1</td>\n    </tr>\n    <tr>\n      <th>1380</th>\n      <td>Conor McGregor</td>\n      <td>1.7526</td>\n      <td>155</td>\n      <td>74</td>\n      <td>Southpaw</td>\n      <td>1988</td>\n      <td>5.27</td>\n      <td>0.48</td>\n      <td>4.43</td>\n      <td>0.55</td>\n      <td>...</td>\n      <td>2.78</td>\n      <td>0.49</td>\n      <td>2.35</td>\n      <td>0.67</td>\n      <td>4.13</td>\n      <td>0.55</td>\n      <td>1.00</td>\n      <td>0.3</td>\n      <td>8.61</td>\n      <td>1</td>\n    </tr>\n    <tr>\n      <th>1544</th>\n      <td>Conor McGregor</td>\n      <td>1.7526</td>\n      <td>155</td>\n      <td>74</td>\n      <td>Southpaw</td>\n      <td>1988</td>\n      <td>5.27</td>\n      <td>0.48</td>\n      <td>4.43</td>\n      <td>0.55</td>\n      <td>...</td>\n      <td>3.87</td>\n      <td>0.32</td>\n      <td>2.67</td>\n      <td>0.65</td>\n      <td>0.87</td>\n      <td>0.32</td>\n      <td>0.65</td>\n      <td>0.3</td>\n      <td>11.72</td>\n      <td>1</td>\n    </tr>\n    <tr>\n      <th>393</th>\n      <td>Khabib Nurmagomedov</td>\n      <td>1.7780</td>\n      <td>155</td>\n      <td>70</td>\n      <td>Orthodox</td>\n      <td>1988</td>\n      <td>4.11</td>\n      <td>0.49</td>\n      <td>1.65</td>\n      <td>0.67</td>\n      <td>...</td>\n      <td>5.27</td>\n      <td>0.48</td>\n      <td>4.43</td>\n      <td>0.55</td>\n      <td>0.75</td>\n      <td>0.62</td>\n      <td>0.70</td>\n      <td>0.0</td>\n      <td>8.01</td>\n      <td>1</td>\n    </tr>\n    <tr>\n      <th>1186</th>\n      <td>Nate Diaz</td>\n      <td>1.8288</td>\n      <td>170</td>\n      <td>76</td>\n      <td>Southpaw</td>\n      <td>1985</td>\n      <td>4.62</td>\n      <td>0.45</td>\n      <td>3.78</td>\n      <td>0.53</td>\n      <td>...</td>\n      <td>5.27</td>\n      <td>0.48</td>\n      <td>4.43</td>\n      <td>0.55</td>\n      <td>0.75</td>\n      <td>0.62</td>\n      <td>0.70</td>\n      <td>0.0</td>\n      <td>8.01</td>\n      <td>1</td>\n    </tr>\n    <tr>\n      <th>1643</th>\n      <td>Dustin Poirier</td>\n      <td>1.7526</td>\n      <td>155</td>\n      <td>72</td>\n      <td>Southpaw</td>\n      <td>1989</td>\n      <td>5.51</td>\n      <td>0.49</td>\n      <td>3.97</td>\n      <td>0.56</td>\n      <td>...</td>\n      <td>5.27</td>\n      <td>0.48</td>\n      <td>4.43</td>\n      <td>0.55</td>\n      <td>0.75</td>\n      <td>0.62</td>\n      <td>0.70</td>\n      <td>0.0</td>\n      <td>8.01</td>\n      <td>0</td>\n    </tr>\n    <tr>\n      <th>2036</th>\n      <td>Max Holloway</td>\n      <td>1.8034</td>\n      <td>145</td>\n      <td>69</td>\n      <td>Orthodox</td>\n      <td>1991</td>\n      <td>6.66</td>\n      <td>0.44</td>\n      <td>4.45</td>\n      <td>0.62</td>\n      <td>...</td>\n      <td>5.27</td>\n      <td>0.48</td>\n      <td>4.43</td>\n      <td>0.55</td>\n      <td>0.75</td>\n      <td>0.62</td>\n      <td>0.70</td>\n      <td>0.0</td>\n      <td>8.01</td>\n      <td>0</td>\n    </tr>\n  </tbody>\n</table>\n<p>9 rows × 31 columns</p>\n</div>"
     },
     "metadata": {},
     "execution_count": 2
    }
   ],
   "source": [
    "# Loading the data\n",
    "ufc_data = pd.read_csv(\"UFC-data/ufc-fights-model.csv\")\n",
    "ufc_data = ufc_data.drop([\"Unnamed: 0\"], axis=1)\n",
    "\n",
    "# Seeing if the data set is usable\n",
    "mcg_fights = pd.concat([ufc_data.loc[ufc_data[\"Name\"] == \"Conor McGregor\"], ufc_data.loc[ufc_data[\"Name.1\"] == \"Conor McGregor\"]])\n",
    "mcg_fights\n",
    "\n",
    "# Which it is :)"
   ]
  },
  {
   "cell_type": "code",
   "execution_count": null,
   "metadata": {},
   "outputs": [],
   "source": [
    "# Apply categorical labeling with hot 1 encoding\n",
    "# There are 4 stances, so the labels will be an array of 4 items\n",
    "\n",
    "stance_open_0 = []\n",
    "stance_orthodox_0 = []\n",
    "stance_southpaw_0 = []\n",
    "stance_switch_0 = []\n",
    "\n",
    "stance_open_1 = []\n",
    "stance_orthodox_1 = []\n",
    "stance_southpaw_1 = []\n",
    "stance_switch_1 = []\n",
    "\n",
    "for i, row in ufc_data.iterrows():\n",
    "    if row[\"Stance\"] == \"Open Sta\":\n",
    "        stance_open_0.append(1)\n",
    "        stance_orthodox_0.append(0)\n",
    "        stance_southpaw_0.append(0)\n",
    "        stance_switch_0.append(0)\n",
    "    elif row[\"Stance\"] == \"Orthodox\":\n",
    "        stance_open_0.append(0)\n",
    "        stance_orthodox_0.append(1)\n",
    "        stance_southpaw_0.append(0)\n",
    "        stance_switch_0.append(0)\n",
    "    elif row[\"Stance\"] == \"Southpaw\":\n",
    "        stance_open_0.append(0)\n",
    "        stance_orthodox_0.append(0)\n",
    "        stance_southpaw_0.append(1)\n",
    "        stance_switch_0.append(0)\n",
    "    elif row[\"Stance\"] == \"Switch\":\n",
    "        stance_open_0.append(0)\n",
    "        stance_orthodox_0.append(0)\n",
    "        stance_southpaw_0.append(0)\n",
    "        stance_switch_0.append(1)\n",
    "\n",
    "    if row[\"Stance.1\"] == \"Open Sta\":\n",
    "        stance_open_1.append(1)\n",
    "        stance_orthodox_1.append(0)\n",
    "        stance_southpaw_1.append(0)\n",
    "        stance_switch_1.append(0)\n",
    "    elif row[\"Stance.1\"] == \"Orthodox\":\n",
    "        stance_open_1.append(0)\n",
    "        stance_orthodox_1.append(1)\n",
    "        stance_southpaw_1.append(0)\n",
    "        stance_switch_1.append(0)\n",
    "    elif row[\"Stance.1\"] == \"Southpaw\":\n",
    "        stance_open_1.append(0)\n",
    "        stance_orthodox_1.append(0)\n",
    "        stance_southpaw_1.append(1)\n",
    "        stance_switch_1.append(0)\n",
    "    elif row[\"Stance.1\"] == \"Switch\":\n",
    "        stance_open_1.append(0)\n",
    "        stance_orthodox_1.append(0)\n",
    "        stance_southpaw_1.append(0)\n",
    "        stance_switch_1.append(1)\n",
    "\n",
    "ufc_data[\"stance_open_0\"] = stance_open_0\n",
    "ufc_data[\"stance_orthodox_0\"] = stance_orthodox_0\n",
    "ufc_data[\"stance_southpaw_0\"] = stance_southpaw_0\n",
    "ufc_data[\"stance_switch_0\"] = stance_switch_0\n",
    "\n",
    "ufc_data[\"stance_open_1\"] = stance_open_1\n",
    "ufc_data[\"stance_orthodox_1\"] = stance_orthodox_1\n",
    "ufc_data[\"stance_southpaw_1\"] = stance_southpaw_1\n",
    "ufc_data[\"stance_switch_1\"] = stance_switch_1"
   ]
  },
  {
   "cell_type": "code",
   "execution_count": null,
   "metadata": {},
   "outputs": [],
   "source": [
    "# Normalizing the data\n",
    "columns_to_normalize = ufc_data.columns\n",
    "columns_to_normalize = columns_to_normalize.drop([\"Name\", \"Stance\", \"DOB\", \"Name.1\", \"Stance.1\", \"DOB.1\", \"Win\"])\n",
    "print(columns_to_normalize)\n",
    "\n",
    "ufc_data[columns_to_normalize] = ufc_data[columns_to_normalize].apply(lambda x: (x - x.min()) / (x.max() - x.min()))"
   ]
  },
  {
   "cell_type": "code",
   "execution_count": null,
   "metadata": {},
   "outputs": [],
   "source": [
    "x = ufc_data[columns_to_normalize].to_numpy()\n",
    "y = ufc_data[\"Win\"].to_numpy().reshape((-1, 1))\n",
    "\n",
    "x_train, x_test, y_train, y_test = model_selection.train_test_split(x, y, test_size=0.25, random_state=2020)\n",
    "\n",
    "print(x_train.shape)\n",
    "print(x_test.shape)\n",
    "print(y_train.shape)\n",
    "print(y_test.shape)"
   ]
  },
  {
   "cell_type": "code",
   "execution_count": null,
   "metadata": {},
   "outputs": [],
   "source": [
    "# Building the model\n",
    "model = Sequential()\n",
    "model.add(InputLayer(input_shape=(32,)))\n",
    "model.add(Dense(128, activation=\"relu\"))\n",
    "model.add(Dense(64, activation=\"relu\"))\n",
    "model.add(Dense(32, activation=\"relu\"))\n",
    "model.add(Dropout(0.2))\n",
    "model.add(Dense(1, activation=\"sigmoid\"))"
   ]
  },
  {
   "cell_type": "code",
   "execution_count": null,
   "metadata": {},
   "outputs": [],
   "source": [
    "# Compiling the model\n",
    "model.compile(loss=\"binary_crossentropy\", optimizer=\"adam\", metrics=[\"accuracy\"])"
   ]
  },
  {
   "cell_type": "code",
   "execution_count": null,
   "metadata": {},
   "outputs": [],
   "source": [
    "arr_metrics = model.fit(x_train, y_train, batch_size=32, epochs=100, validation_data=(x_test, y_test))"
   ]
  },
  {
   "cell_type": "code",
   "execution_count": null,
   "metadata": {},
   "outputs": [],
   "source": [
    "evaluation = model.evaluate(x_test, y_test)"
   ]
  },
  {
   "cell_type": "code",
   "execution_count": null,
   "metadata": {},
   "outputs": [],
   "source": [
    "model.save(\"models/attempt0.h5\")\n",
    "\n",
    "print(arr_metrics.history.keys())"
   ]
  },
  {
   "cell_type": "code",
   "execution_count": null,
   "metadata": {},
   "outputs": [],
   "source": [
    "plt.plot(arr_metrics.history[\"accuracy\"])\n",
    "plt.plot(arr_metrics.history[\"val_accuracy\"])\n",
    "plt.ylabel(\"Accuracy\")\n",
    "plt.xlabel(\"Epoch\")\n",
    "plt.legend([\"Train\", \"Val\"])\n",
    "plt.show()\n",
    "\n",
    "plt.plot(arr_metrics.history[\"loss\"])\n",
    "plt.plot(arr_metrics.history[\"val_loss\"])\n",
    "plt.ylabel(\"Loss\")\n",
    "plt.xlabel(\"Epoch\")\n",
    "plt.legend([\"Traing\", \"Val\"])\n",
    "plt.show()"
   ]
  }
 ],
 "metadata": {
  "language_info": {
   "codemirror_mode": {
    "name": "ipython",
    "version": 3
   },
   "file_extension": ".py",
   "mimetype": "text/x-python",
   "name": "python",
   "nbconvert_exporter": "python",
   "pygments_lexer": "ipython3",
   "version": "3.7.5-final"
  },
  "orig_nbformat": 2,
  "kernelspec": {
   "name": "python37564bit8153ed8c25bd45b7b4519484779c0773",
   "display_name": "Python 3.7.5 64-bit"
  }
 },
 "nbformat": 4,
 "nbformat_minor": 2
}