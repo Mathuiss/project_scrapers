{
 "cells": [
  {
   "cell_type": "code",
   "execution_count": null,
   "metadata": {},
   "outputs": [],
   "source": [
    "import pandas as pd\n",
    "import numpy as np\n",
    "import matplotlib.pyplot as plt\n",
    "from sklearn import model_selection\n",
    "from keras.models import Sequential\n",
    "from keras.layers import Dense, Dropout, InputLayer"
   ]
  },
  {
   "cell_type": "code",
   "execution_count": null,
   "metadata": {},
   "outputs": [],
   "source": [
    "# Loading the data\n",
    "ufc_data = pd.read_csv(\"UFC-data/ufc-fights-model.csv\")\n",
    "ufc_data = ufc_data.drop([\"Unnamed: 0\"], axis=1)\n",
    "\n",
    "# Seeing if the data set is usable\n",
    "mcg_fights = pd.concat([ufc_data.loc[ufc_data[\"Name\"] == \"Conor McGregor\"], ufc_data.loc[ufc_data[\"Name.1\"] == \"Conor McGregor\"]])\n",
    "mcg_fights\n",
    "\n",
    "# Which it is :)"
   ]
  },
  {
   "cell_type": "code",
   "execution_count": null,
   "metadata": {},
   "outputs": [],
   "source": [
    "# Apply categorical labeling with hot 1 encoding\n",
    "# There are 4 stances, so the labels will be an array of 4 items\n",
    "\n",
    "stance_open_0 = []\n",
    "stance_orthodox_0 = []\n",
    "stance_southpaw_0 = []\n",
    "stance_switch_0 = []\n",
    "\n",
    "stance_open_1 = []\n",
    "stance_orthodox_1 = []\n",
    "stance_southpaw_1 = []\n",
    "stance_switch_1 = []\n",
    "\n",
    "for i, row in ufc_data.iterrows():\n",
    "    if row[\"Stance\"] == \"Open Sta\":\n",
    "        stance_open_0.append(1)\n",
    "        stance_orthodox_0.append(0)\n",
    "        stance_southpaw_0.append(0)\n",
    "        stance_switch_0.append(0)\n",
    "    elif row[\"Stance\"] == \"Orthodox\":\n",
    "        stance_open_0.append(0)\n",
    "        stance_orthodox_0.append(1)\n",
    "        stance_southpaw_0.append(0)\n",
    "        stance_switch_0.append(0)\n",
    "    elif row[\"Stance\"] == \"Southpaw\":\n",
    "        stance_open_0.append(0)\n",
    "        stance_orthodox_0.append(0)\n",
    "        stance_southpaw_0.append(1)\n",
    "        stance_switch_0.append(0)\n",
    "    elif row[\"Stance\"] == \"Switch\":\n",
    "        stance_open_0.append(0)\n",
    "        stance_orthodox_0.append(0)\n",
    "        stance_southpaw_0.append(0)\n",
    "        stance_switch_0.append(1)\n",
    "\n",
    "    if row[\"Stance.1\"] == \"Open Sta\":\n",
    "        stance_open_1.append(1)\n",
    "        stance_orthodox_1.append(0)\n",
    "        stance_southpaw_1.append(0)\n",
    "        stance_switch_1.append(0)\n",
    "    elif row[\"Stance.1\"] == \"Orthodox\":\n",
    "        stance_open_1.append(0)\n",
    "        stance_orthodox_1.append(1)\n",
    "        stance_southpaw_1.append(0)\n",
    "        stance_switch_1.append(0)\n",
    "    elif row[\"Stance.1\"] == \"Southpaw\":\n",
    "        stance_open_1.append(0)\n",
    "        stance_orthodox_1.append(0)\n",
    "        stance_southpaw_1.append(1)\n",
    "        stance_switch_1.append(0)\n",
    "    elif row[\"Stance.1\"] == \"Switch\":\n",
    "        stance_open_1.append(0)\n",
    "        stance_orthodox_1.append(0)\n",
    "        stance_southpaw_1.append(0)\n",
    "        stance_switch_1.append(1)\n",
    "\n",
    "ufc_data[\"stance_open_0\"] = stance_open_0\n",
    "ufc_data[\"stance_orthodox_0\"] = stance_orthodox_0\n",
    "ufc_data[\"stance_southpaw_0\"] = stance_southpaw_0\n",
    "ufc_data[\"stance_switch_0\"] = stance_switch_0\n",
    "\n",
    "ufc_data[\"stance_open_1\"] = stance_open_1\n",
    "ufc_data[\"stance_orthodox_1\"] = stance_orthodox_1\n",
    "ufc_data[\"stance_southpaw_1\"] = stance_southpaw_1\n",
    "ufc_data[\"stance_switch_1\"] = stance_switch_1"
   ]
  },
  {
   "cell_type": "code",
   "execution_count": null,
   "metadata": {},
   "outputs": [],
   "source": [
    "# Normalizing the data\n",
    "columns_to_normalize = ufc_data.columns\n",
    "columns_to_normalize = columns_to_normalize.drop([\"Name\", \"Stance\", \"DOB\", \"Name.1\", \"Stance.1\", \"DOB.1\", \"Win\"])\n",
    "print(columns_to_normalize)\n",
    "\n",
    "ufc_data[columns_to_normalize] = ufc_data[columns_to_normalize].apply(lambda x: (x - x.min()) / (x.max() - x.min()))"
   ]
  },
  {
   "cell_type": "code",
   "execution_count": null,
   "metadata": {},
   "outputs": [],
   "source": [
    "x = ufc_data[columns_to_normalize].to_numpy()\n",
    "y = ufc_data[\"Win\"].to_numpy().reshape((-1, 1))\n",
    "\n",
    "x_train, x_test, y_train, y_test = model_selection.train_test_split(x, y, test_size=0.25, random_state=2020)\n",
    "\n",
    "print(x_train.shape)\n",
    "print(x_test.shape)\n",
    "print(y_train.shape)\n",
    "print(y_test.shape)"
   ]
  },
  {
   "cell_type": "code",
   "execution_count": null,
   "metadata": {},
   "outputs": [],
   "source": [
    "# Building the model\n",
    "model = Sequential()\n",
    "model.add(InputLayer(input_shape=(32,)))\n",
    "model.add(Dense(128, activation=\"relu\"))\n",
    "model.add(Dense(64, activation=\"relu\"))\n",
    "model.add(Dense(32, activation=\"relu\"))\n",
    "model.add(Dropout(0.2))\n",
    "model.add(Dense(1, activation=\"sigmoid\"))"
   ]
  },
  {
   "cell_type": "code",
   "execution_count": null,
   "metadata": {},
   "outputs": [],
   "source": [
    "# Compiling the model\n",
    "model.compile(loss=\"binary_crossentropy\", optimizer=\"adam\", metrics=[\"accuracy\"])"
   ]
  },
  {
   "cell_type": "code",
   "execution_count": null,
   "metadata": {},
   "outputs": [],
   "source": [
    "arr_metrics = model.fit(x_train, y_train, batch_size=32, epochs=100, validation_data=(x_test, y_test))"
   ]
  },
  {
   "cell_type": "code",
   "execution_count": null,
   "metadata": {},
   "outputs": [],
   "source": [
    "evaluation = model.evaluate(x_test, y_test)"
   ]
  },
  {
   "cell_type": "code",
   "execution_count": null,
   "metadata": {},
   "outputs": [],
   "source": [
    "model.save(\"models/attempt0.h5\")\n",
    "\n",
    "print(arr_metrics.history.keys())"
   ]
  },
  {
   "cell_type": "code",
   "execution_count": null,
   "metadata": {},
   "outputs": [],
   "source": [
    "plt.plot(arr_metrics.history[\"accuracy\"])\n",
    "plt.plot(arr_metrics.history[\"val_accuracy\"])\n",
    "plt.ylabel(\"Accuracy\")\n",
    "plt.xlabel(\"Epoch\")\n",
    "plt.legend([\"Train\", \"Val\"])\n",
    "plt.show()\n",
    "\n",
    "plt.plot(arr_metrics.history[\"loss\"])\n",
    "plt.plot(arr_metrics.history[\"val_loss\"])\n",
    "plt.ylabel(\"Loss\")\n",
    "plt.xlabel(\"Epoch\")\n",
    "plt.legend([\"Traing\", \"Val\"])\n",
    "plt.show()"
   ]
  }
 ],
 "metadata": {
  "language_info": {
   "codemirror_mode": {
    "name": "ipython",
    "version": 3
   },
   "file_extension": ".py",
   "mimetype": "text/x-python",
   "name": "python",
   "nbconvert_exporter": "python",
   "pygments_lexer": "ipython3",
   "version": "3.7.5-final"
  },
  "orig_nbformat": 2,
  "kernelspec": {
   "name": "python37564bit8153ed8c25bd45b7b4519484779c0773",
   "display_name": "Python 3.7.5 64-bit"
  }
 },
 "nbformat": 4,
 "nbformat_minor": 2
}