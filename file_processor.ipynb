{
 "cells": [
  {
   "cell_type": "code",
   "execution_count": 1,
   "metadata": {},
   "outputs": [],
   "source": [
    "import pandas as pd"
   ]
  },
  {
   "cell_type": "code",
   "execution_count": 2,
   "metadata": {},
   "outputs": [],
   "source": [
    "df = pd.read_csv(\"UFC-data/all-fights-detailed-data.csv\")"
   ]
  },
  {
   "cell_type": "code",
   "execution_count": 3,
   "metadata": {},
   "outputs": [
    {
     "output_type": "execute_result",
     "data": {
      "text/plain": "      BPrev  BStreak  B_Age  B_Height                B_HomeTown  B_ID  \\\n359       1        1   30.0     175.0            Dublin Ireland  2057   \n701       3        3   30.0     175.0            Dublin Ireland  2057   \n912       4        4   30.0     175.0            Dublin Ireland  2057   \n1266      6        0   30.0     175.0            Dublin Ireland  2057   \n1362      7        1   30.0     175.0            Dublin Ireland  2057   \n2306      8        2   30.0     175.0            Dublin Ireland  2057   \n267       0        0   31.0     170.0   Fortaleza, Ceara Brazil  1906   \n502       1        1   39.0     170.0               Omsk Russia   366   \n1064      2        1   33.0     182.0  Stockton, California USA   538   \n\n                    B_Location          B_Name  B_Weight  \\\n359             Dublin Ireland  Conor McGregor      70.0   \n701             Dublin Ireland  Conor McGregor      70.0   \n912             Dublin Ireland  Conor McGregor      70.0   \n1266            Dublin Ireland  Conor McGregor      70.0   \n1362            Dublin Ireland  Conor McGregor      70.0   \n2306            Dublin Ireland  Conor McGregor      70.0   \n267              Manaus Brazil   Diego Brandao      65.0   \n502           Mannheim Germany    Dennis Siver      65.0   \n1064  Stockton, California USA       Nate Diaz      77.0   \n\n      B__Round1_Grappling_Reversals_Landed  ...  R__Round5_TIP_Ground Time  \\\n359                                    0.0  ...                        NaN   \n701                                    0.0  ...                       86.0   \n912                                    0.0  ...                      353.0   \n1266                                   1.0  ...                        NaN   \n1362                                   1.0  ...                        NaN   \n2306                                   1.0  ...                      114.0   \n267                                    NaN  ...                        NaN   \n502                                    0.0  ...                        NaN   \n1064                                   0.0  ...                        NaN   \n\n      R__Round5_TIP_Guard Control Time  R__Round5_TIP_Half Guard Control Time  \\\n359                                NaN                                    NaN   \n701                                0.0                                    0.0   \n912                               49.0                                    8.0   \n1266                               NaN                                    NaN   \n1362                               NaN                                    NaN   \n2306                               0.0                                    0.0   \n267                                NaN                                    NaN   \n502                                NaN                                    NaN   \n1064                               NaN                                    NaN   \n\n      R__Round5_TIP_Misc. Ground Control Time  \\\n359                                       NaN   \n701                                       0.0   \n912                                      24.0   \n1266                                      NaN   \n1362                                      NaN   \n2306                                     49.0   \n267                                       NaN   \n502                                       NaN   \n1064                                      NaN   \n\n      R__Round5_TIP_Mount Control Time  R__Round5_TIP_Neutral Time  \\\n359                                NaN                         NaN   \n701                               63.0                       214.0   \n912                               64.0                       232.0   \n1266                               NaN                         NaN   \n1362                               NaN                         NaN   \n2306                               2.0                       147.0   \n267                                NaN                         NaN   \n502                                NaN                         NaN   \n1064                               NaN                         NaN   \n\n      R__Round5_TIP_Side Control Time  R__Round5_TIP_Standing Time   winby  \\\n359                               NaN                          NaN  KO/TKO   \n701                               0.0                        214.0  KO/TKO   \n912                               0.0                        247.0  KO/TKO   \n1266                              NaN                          NaN     DEC   \n1362                              NaN                          NaN  KO/TKO   \n2306                              0.0                        187.0     SUB   \n267                               NaN                          NaN  KO/TKO   \n502                               NaN                          NaN  KO/TKO   \n1064                              NaN                          NaN     SUB   \n\n      winner  \n359     blue  \n701     blue  \n912     blue  \n1266    blue  \n1362    blue  \n2306     red  \n267      red  \n502      red  \n1064    blue  \n\n[9 rows x 894 columns]",
      "text/html": "<div>\n<style scoped>\n    .dataframe tbody tr th:only-of-type {\n        vertical-align: middle;\n    }\n\n    .dataframe tbody tr th {\n        vertical-align: top;\n    }\n\n    .dataframe thead th {\n        text-align: right;\n    }\n</style>\n<table border=\"1\" class=\"dataframe\">\n  <thead>\n    <tr style=\"text-align: right;\">\n      <th></th>\n      <th>BPrev</th>\n      <th>BStreak</th>\n      <th>B_Age</th>\n      <th>B_Height</th>\n      <th>B_HomeTown</th>\n      <th>B_ID</th>\n      <th>B_Location</th>\n      <th>B_Name</th>\n      <th>B_Weight</th>\n      <th>B__Round1_Grappling_Reversals_Landed</th>\n      <th>...</th>\n      <th>R__Round5_TIP_Ground Time</th>\n      <th>R__Round5_TIP_Guard Control Time</th>\n      <th>R__Round5_TIP_Half Guard Control Time</th>\n      <th>R__Round5_TIP_Misc. Ground Control Time</th>\n      <th>R__Round5_TIP_Mount Control Time</th>\n      <th>R__Round5_TIP_Neutral Time</th>\n      <th>R__Round5_TIP_Side Control Time</th>\n      <th>R__Round5_TIP_Standing Time</th>\n      <th>winby</th>\n      <th>winner</th>\n    </tr>\n  </thead>\n  <tbody>\n    <tr>\n      <th>359</th>\n      <td>1</td>\n      <td>1</td>\n      <td>30.0</td>\n      <td>175.0</td>\n      <td>Dublin Ireland</td>\n      <td>2057</td>\n      <td>Dublin Ireland</td>\n      <td>Conor McGregor</td>\n      <td>70.0</td>\n      <td>0.0</td>\n      <td>...</td>\n      <td>NaN</td>\n      <td>NaN</td>\n      <td>NaN</td>\n      <td>NaN</td>\n      <td>NaN</td>\n      <td>NaN</td>\n      <td>NaN</td>\n      <td>NaN</td>\n      <td>KO/TKO</td>\n      <td>blue</td>\n    </tr>\n    <tr>\n      <th>701</th>\n      <td>3</td>\n      <td>3</td>\n      <td>30.0</td>\n      <td>175.0</td>\n      <td>Dublin Ireland</td>\n      <td>2057</td>\n      <td>Dublin Ireland</td>\n      <td>Conor McGregor</td>\n      <td>70.0</td>\n      <td>0.0</td>\n      <td>...</td>\n      <td>86.0</td>\n      <td>0.0</td>\n      <td>0.0</td>\n      <td>0.0</td>\n      <td>63.0</td>\n      <td>214.0</td>\n      <td>0.0</td>\n      <td>214.0</td>\n      <td>KO/TKO</td>\n      <td>blue</td>\n    </tr>\n    <tr>\n      <th>912</th>\n      <td>4</td>\n      <td>4</td>\n      <td>30.0</td>\n      <td>175.0</td>\n      <td>Dublin Ireland</td>\n      <td>2057</td>\n      <td>Dublin Ireland</td>\n      <td>Conor McGregor</td>\n      <td>70.0</td>\n      <td>0.0</td>\n      <td>...</td>\n      <td>353.0</td>\n      <td>49.0</td>\n      <td>8.0</td>\n      <td>24.0</td>\n      <td>64.0</td>\n      <td>232.0</td>\n      <td>0.0</td>\n      <td>247.0</td>\n      <td>KO/TKO</td>\n      <td>blue</td>\n    </tr>\n    <tr>\n      <th>1266</th>\n      <td>6</td>\n      <td>0</td>\n      <td>30.0</td>\n      <td>175.0</td>\n      <td>Dublin Ireland</td>\n      <td>2057</td>\n      <td>Dublin Ireland</td>\n      <td>Conor McGregor</td>\n      <td>70.0</td>\n      <td>1.0</td>\n      <td>...</td>\n      <td>NaN</td>\n      <td>NaN</td>\n      <td>NaN</td>\n      <td>NaN</td>\n      <td>NaN</td>\n      <td>NaN</td>\n      <td>NaN</td>\n      <td>NaN</td>\n      <td>DEC</td>\n      <td>blue</td>\n    </tr>\n    <tr>\n      <th>1362</th>\n      <td>7</td>\n      <td>1</td>\n      <td>30.0</td>\n      <td>175.0</td>\n      <td>Dublin Ireland</td>\n      <td>2057</td>\n      <td>Dublin Ireland</td>\n      <td>Conor McGregor</td>\n      <td>70.0</td>\n      <td>1.0</td>\n      <td>...</td>\n      <td>NaN</td>\n      <td>NaN</td>\n      <td>NaN</td>\n      <td>NaN</td>\n      <td>NaN</td>\n      <td>NaN</td>\n      <td>NaN</td>\n      <td>NaN</td>\n      <td>KO/TKO</td>\n      <td>blue</td>\n    </tr>\n    <tr>\n      <th>2306</th>\n      <td>8</td>\n      <td>2</td>\n      <td>30.0</td>\n      <td>175.0</td>\n      <td>Dublin Ireland</td>\n      <td>2057</td>\n      <td>Dublin Ireland</td>\n      <td>Conor McGregor</td>\n      <td>70.0</td>\n      <td>1.0</td>\n      <td>...</td>\n      <td>114.0</td>\n      <td>0.0</td>\n      <td>0.0</td>\n      <td>49.0</td>\n      <td>2.0</td>\n      <td>147.0</td>\n      <td>0.0</td>\n      <td>187.0</td>\n      <td>SUB</td>\n      <td>red</td>\n    </tr>\n    <tr>\n      <th>267</th>\n      <td>0</td>\n      <td>0</td>\n      <td>31.0</td>\n      <td>170.0</td>\n      <td>Fortaleza, Ceara Brazil</td>\n      <td>1906</td>\n      <td>Manaus Brazil</td>\n      <td>Diego Brandao</td>\n      <td>65.0</td>\n      <td>NaN</td>\n      <td>...</td>\n      <td>NaN</td>\n      <td>NaN</td>\n      <td>NaN</td>\n      <td>NaN</td>\n      <td>NaN</td>\n      <td>NaN</td>\n      <td>NaN</td>\n      <td>NaN</td>\n      <td>KO/TKO</td>\n      <td>red</td>\n    </tr>\n    <tr>\n      <th>502</th>\n      <td>1</td>\n      <td>1</td>\n      <td>39.0</td>\n      <td>170.0</td>\n      <td>Omsk Russia</td>\n      <td>366</td>\n      <td>Mannheim Germany</td>\n      <td>Dennis Siver</td>\n      <td>65.0</td>\n      <td>0.0</td>\n      <td>...</td>\n      <td>NaN</td>\n      <td>NaN</td>\n      <td>NaN</td>\n      <td>NaN</td>\n      <td>NaN</td>\n      <td>NaN</td>\n      <td>NaN</td>\n      <td>NaN</td>\n      <td>KO/TKO</td>\n      <td>red</td>\n    </tr>\n    <tr>\n      <th>1064</th>\n      <td>2</td>\n      <td>1</td>\n      <td>33.0</td>\n      <td>182.0</td>\n      <td>Stockton, California USA</td>\n      <td>538</td>\n      <td>Stockton, California USA</td>\n      <td>Nate Diaz</td>\n      <td>77.0</td>\n      <td>0.0</td>\n      <td>...</td>\n      <td>NaN</td>\n      <td>NaN</td>\n      <td>NaN</td>\n      <td>NaN</td>\n      <td>NaN</td>\n      <td>NaN</td>\n      <td>NaN</td>\n      <td>NaN</td>\n      <td>SUB</td>\n      <td>blue</td>\n    </tr>\n  </tbody>\n</table>\n<p>9 rows × 894 columns</p>\n</div>"
     },
     "metadata": {},
     "execution_count": 3
    }
   ],
   "source": [
    "# All conor mcgregor fights\n",
    "mcg_fights = pd.concat([df.loc[df[\"B_Name\"] == \"Conor McGregor\"], df.loc[df[\"R_Name\"] == \"Conor McGregor\"]])\n",
    "mcg_fights"
   ]
  },
  {
   "cell_type": "code",
   "execution_count": null,
   "metadata": {},
   "outputs": [],
   "source": []
  }
 ],
 "metadata": {
  "language_info": {
   "codemirror_mode": {
    "name": "ipython",
    "version": 3
   },
   "file_extension": ".py",
   "mimetype": "text/x-python",
   "name": "python",
   "nbconvert_exporter": "python",
   "pygments_lexer": "ipython3",
   "version": "3.7.5-final"
  },
  "orig_nbformat": 2,
  "kernelspec": {
   "name": "python37564bit8153ed8c25bd45b7b4519484779c0773",
   "display_name": "Python 3.7.5 64-bit"
  }
 },
 "nbformat": 4,
 "nbformat_minor": 2
}